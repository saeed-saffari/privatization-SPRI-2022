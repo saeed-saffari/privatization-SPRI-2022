{
 "cells": [
  {
   "cell_type": "markdown",
   "id": "cfc63d86",
   "metadata": {},
   "source": [
    "# <center> Privatization Index"
   ]
  },
  {
   "cell_type": "markdown",
   "id": "d1f2bddf",
   "metadata": {},
   "source": [
    "## First Step: Economics Indexes\n",
    "\n",
    "List of indexes:\n",
    "\n",
    " \n",
    "\n",
    "1. <font color='green' > تورم </font>\n",
    "2. نوسانات تورم\n",
    "3. نرخ بهره واقعی  \n",
    "4. نوسانات نرخ ارز\n",
    "5. <font color='green' >  رشد اقتصاد </font>\n",
    "6. کانال بودجه‌ای دخالت دولت در بنگاه‌داری\n",
    "7. امتیاز پایش محیط کسب و کار در ایران**\n",
    "8. عملکرد دستگاه‌های اجرایی مرتبط با محیط کسب و کار**\n",
    "9. میزان سرمایه‌گذاری خارجی\n",
    "10. میزان تامین مالی از سرمایه خارجی\n",
    "11. میزان تامین مالی از بازار سرمایه\n",
    "12. عمق بازار سرمایه\n",
    "13. نسبت ارزش واگذاری‌ها به صورت رد دیون به ارزش کل واگذاری‌ها در هر سال**\n",
    "\n"
   ]
  },
  {
   "cell_type": "markdown",
   "id": "66977a8a",
   "metadata": {},
   "source": [
    "## Big picture Formula\n",
    "\n",
    "$$ \\left\\lvert \\frac{worth \\space\\space performances - x}{worth \\space\\space performance - best \\space\\space performances \\space\\space} \\right\\lvert $$"
   ]
  },
  {
   "cell_type": "markdown",
   "id": "a648713e",
   "metadata": {},
   "source": [
    "#### Imports"
   ]
  },
  {
   "cell_type": "code",
   "execution_count": 2,
   "id": "7a4622a7",
   "metadata": {},
   "outputs": [],
   "source": [
    "import numpy as np\n",
    "import pandas as pd\n",
    "from pandas_datareader import wb\n",
    "import matplotlib.pyplot as plt"
   ]
  },
  {
   "cell_type": "markdown",
   "id": "46caae14",
   "metadata": {},
   "source": [
    "#### Testing formulas"
   ]
  },
  {
   "cell_type": "code",
   "execution_count": 165,
   "id": "6b280ef5",
   "metadata": {
    "scrolled": true
   },
   "outputs": [],
   "source": [
    "inflation = wb.download(country='all',indicator= \"FP.CPI.TOTL.ZG\", start=2019 ,end = 2019)"
   ]
  },
  {
   "cell_type": "code",
   "execution_count": 166,
   "id": "af22ab37",
   "metadata": {},
   "outputs": [],
   "source": [
    "inflation = inflation.unstack().reset_index()"
   ]
  },
  {
   "cell_type": "code",
   "execution_count": 168,
   "id": "7212a4d2",
   "metadata": {},
   "outputs": [],
   "source": [
    "#inflation.drop(['level_0', 'year',],axis = 1, inplace=True)"
   ]
  },
  {
   "cell_type": "code",
   "execution_count": 174,
   "id": "f0dc8dab",
   "metadata": {},
   "outputs": [],
   "source": [
    "#inflation.columns"
   ]
  },
  {
   "cell_type": "code",
   "execution_count": 170,
   "id": "b0885890",
   "metadata": {},
   "outputs": [],
   "source": [
    "inflation.columns = ['name', 'inflation']"
   ]
  },
  {
   "cell_type": "code",
   "execution_count": 172,
   "id": "a4898461",
   "metadata": {},
   "outputs": [],
   "source": [
    "inflation.set_index('name', inplace=True)"
   ]
  },
  {
   "cell_type": "code",
   "execution_count": 63,
   "id": "a5ae8d1f",
   "metadata": {},
   "outputs": [],
   "source": [
    "country_name = wb.get_countries()"
   ]
  },
  {
   "cell_type": "code",
   "execution_count": 65,
   "id": "2e021484",
   "metadata": {},
   "outputs": [],
   "source": [
    "country_name['name2'] = country_name.name"
   ]
  },
  {
   "cell_type": "code",
   "execution_count": 66,
   "id": "7e832c31",
   "metadata": {},
   "outputs": [],
   "source": [
    "country_name = country_name.set_index('name')"
   ]
  },
  {
   "cell_type": "code",
   "execution_count": 67,
   "id": "92378a30",
   "metadata": {},
   "outputs": [],
   "source": [
    "country_name = country_name[country_name.incomeLevel != \"Aggregates\"]"
   ]
  },
  {
   "cell_type": "code",
   "execution_count": 175,
   "id": "f372cbeb",
   "metadata": {},
   "outputs": [],
   "source": [
    "inflation = inflation.join(country_name, how='inner').drop(list(inflation.join(country_name, how='inner').columns[1:]), axis = 1).dropna()"
   ]
  },
  {
   "cell_type": "code",
   "execution_count": 176,
   "id": "e673c241",
   "metadata": {},
   "outputs": [],
   "source": [
    "sort_inflation = inflation.sort_values('inflation', ascending=False)"
   ]
  },
  {
   "cell_type": "code",
   "execution_count": 218,
   "id": "90eaef05",
   "metadata": {},
   "outputs": [],
   "source": [
    "max_10 = sort_inflation.iloc[0:10]\n",
    "#max_10.head(10)"
   ]
  },
  {
   "cell_type": "code",
   "execution_count": 219,
   "id": "bf0c6637",
   "metadata": {},
   "outputs": [],
   "source": [
    "#sort_inflation.iloc[0:20]"
   ]
  },
  {
   "cell_type": "code",
   "execution_count": 220,
   "id": "8b9b905d",
   "metadata": {},
   "outputs": [],
   "source": [
    "min_10 = sort_inflation.iloc[-10:]\n",
    "#min_10.head(10)"
   ]
  },
  {
   "cell_type": "code",
   "execution_count": 221,
   "id": "38362b4e",
   "metadata": {},
   "outputs": [],
   "source": [
    "mean_max = max_10.mean()\n",
    "#print(mean_max)"
   ]
  },
  {
   "cell_type": "code",
   "execution_count": 222,
   "id": "56e01472",
   "metadata": {},
   "outputs": [],
   "source": [
    "mean_min = min_10.mean()\n",
    "#print(mean_min)"
   ]
  },
  {
   "cell_type": "code",
   "execution_count": 223,
   "id": "8244cb96",
   "metadata": {},
   "outputs": [],
   "source": [
    "iran_inflation=inflation[inflation.index == 'Iran, Islamic Rep.']\n",
    "#print(iran_inflation)"
   ]
  },
  {
   "cell_type": "code",
   "execution_count": 204,
   "id": "73d5b347",
   "metadata": {},
   "outputs": [
    {
     "data": {
      "text/plain": [
       "76.54813541278564"
      ]
     },
     "execution_count": 204,
     "metadata": {},
     "output_type": "execute_result"
    }
   ],
   "source": [
    "abs(((mean_min - iran_inflation)) / (mean_max - mean_min) * 100).iloc[0][0]"
   ]
  },
  {
   "cell_type": "code",
   "execution_count": null,
   "id": "fab7846e",
   "metadata": {},
   "outputs": [],
   "source": []
  },
  {
   "cell_type": "markdown",
   "id": "a1760edb",
   "metadata": {},
   "source": [
    "### Finaly function"
   ]
  },
  {
   "cell_type": "code",
   "execution_count": 216,
   "id": "6b554c43",
   "metadata": {},
   "outputs": [],
   "source": [
    "def cleaning_cal(df):\n",
    "    df = df.unstack().reset_index()\n",
    "    df.columns = ['name', 'inflation']\n",
    "    df.set_index('name', inplace=True)\n",
    "    \n",
    "    country_name = wb.get_countries()\n",
    "    country_name['name2'] = country_name.name\n",
    "    country_name = country_name.set_index('name')\n",
    "    country_name = country_name[country_name.incomeLevel != \"Aggregates\"]\n",
    "    \n",
    "    \n",
    "    df = df.join(country_name, how='inner').drop(list(df.join(country_name, how='inner').columns[1:]), axis = 1).dropna()\n",
    "    sort_df = df.sort_values('inflation', ascending=False)\n",
    "    \n",
    "    max_10 = sort_df.iloc[0:10]\n",
    "    min_10 = sort_df.iloc[-10:]\n",
    "    \n",
    "    mean_max = max_10.mean()\n",
    "    mean_min = min_10.mean()\n",
    "    \n",
    "    iran_df=df[df.index == 'Iran, Islamic Rep.']\n",
    "    output =  abs(((mean_min - iran_df)) / (mean_max - mean_min) * 100).iloc[0][0]\n",
    "    return output"
   ]
  },
  {
   "cell_type": "code",
   "execution_count": 213,
   "id": "9609ca05",
   "metadata": {},
   "outputs": [],
   "source": [
    "df = wb.download(country='all',indicator= \"FP.CPI.TOTL.ZG\", start=2019 ,end = 2019)"
   ]
  },
  {
   "cell_type": "code",
   "execution_count": 217,
   "id": "d4661225",
   "metadata": {},
   "outputs": [
    {
     "data": {
      "text/plain": [
       "76.54813541278564"
      ]
     },
     "execution_count": 217,
     "metadata": {},
     "output_type": "execute_result"
    }
   ],
   "source": [
    "cleaning_cal(df)"
   ]
  },
  {
   "cell_type": "code",
   "execution_count": null,
   "id": "1bc2d728",
   "metadata": {},
   "outputs": [],
   "source": []
  },
  {
   "cell_type": "markdown",
   "id": "81d5acbd",
   "metadata": {},
   "source": [
    "## Indicators"
   ]
  },
  {
   "cell_type": "markdown",
   "id": "6772824f",
   "metadata": {},
   "source": [
    "### 1. تورم"
   ]
  },
  {
   "cell_type": "code",
   "execution_count": 269,
   "id": "d56ba2fb",
   "metadata": {},
   "outputs": [],
   "source": [
    "# CPI for 2019\n",
    "df = wb.download(country='all',indicator= \"FP.CPI.TOTL.ZG\", start=2019 ,end = 2019)"
   ]
  },
  {
   "cell_type": "code",
   "execution_count": 266,
   "id": "1df31d0d",
   "metadata": {},
   "outputs": [
    {
     "data": {
      "text/plain": [
       "76.54813541278564"
      ]
     },
     "execution_count": 266,
     "metadata": {},
     "output_type": "execute_result"
    }
   ],
   "source": [
    "cleaning_cal(df)"
   ]
  },
  {
   "cell_type": "code",
   "execution_count": null,
   "id": "d10d1bd7",
   "metadata": {},
   "outputs": [],
   "source": []
  },
  {
   "cell_type": "markdown",
   "id": "fa2161ae",
   "metadata": {},
   "source": [
    "### 2. انحراف معیار تورم"
   ]
  },
  {
   "cell_type": "code",
   "execution_count": 315,
   "id": "014380bc",
   "metadata": {},
   "outputs": [],
   "source": [
    "# std CPI for 2019\n",
    "df = wb.download(country='IRN',indicator= \"FP.CPI.TOTL.ZG\", start=2017 ,end = 2019).unstack()"
   ]
  },
  {
   "cell_type": "code",
   "execution_count": 354,
   "id": "ca263f0f",
   "metadata": {},
   "outputs": [],
   "source": [
    "df['FP.CPI.TOTL.ZG']['2018'] = np.nan"
   ]
  },
  {
   "cell_type": "code",
   "execution_count": 355,
   "id": "4c0e7d9d",
   "metadata": {},
   "outputs": [
    {
     "data": {
      "text/html": [
       "<div>\n",
       "<style scoped>\n",
       "    .dataframe tbody tr th:only-of-type {\n",
       "        vertical-align: middle;\n",
       "    }\n",
       "\n",
       "    .dataframe tbody tr th {\n",
       "        vertical-align: top;\n",
       "    }\n",
       "\n",
       "    .dataframe thead tr th {\n",
       "        text-align: left;\n",
       "    }\n",
       "\n",
       "    .dataframe thead tr:last-of-type th {\n",
       "        text-align: right;\n",
       "    }\n",
       "</style>\n",
       "<table border=\"1\" class=\"dataframe\">\n",
       "  <thead>\n",
       "    <tr>\n",
       "      <th></th>\n",
       "      <th colspan=\"3\" halign=\"left\">FP.CPI.TOTL.ZG</th>\n",
       "    </tr>\n",
       "    <tr>\n",
       "      <th>year</th>\n",
       "      <th>2017</th>\n",
       "      <th>2018</th>\n",
       "      <th>2019</th>\n",
       "    </tr>\n",
       "    <tr>\n",
       "      <th>country</th>\n",
       "      <th></th>\n",
       "      <th></th>\n",
       "      <th></th>\n",
       "    </tr>\n",
       "  </thead>\n",
       "  <tbody>\n",
       "    <tr>\n",
       "      <th>Iran, Islamic Rep.</th>\n",
       "      <td>8.044924</td>\n",
       "      <td>NaN</td>\n",
       "      <td>39.907346</td>\n",
       "    </tr>\n",
       "  </tbody>\n",
       "</table>\n",
       "</div>"
      ],
      "text/plain": [
       "                   FP.CPI.TOTL.ZG                \n",
       "year                         2017 2018       2019\n",
       "country                                          \n",
       "Iran, Islamic Rep.       8.044924  NaN  39.907346"
      ]
     },
     "execution_count": 355,
     "metadata": {},
     "output_type": "execute_result"
    }
   ],
   "source": [
    "df"
   ]
  },
  {
   "cell_type": "code",
   "execution_count": 365,
   "id": "598f1b43",
   "metadata": {},
   "outputs": [
    {
     "name": "stdout",
     "output_type": "stream",
     "text": [
      "False\n",
      "True\n"
     ]
    }
   ],
   "source": [
    "for i in df.isna()['FP.CPI.TOTL.ZG']:\n",
    "    print(df.isna()['FP.CPI.TOTL.ZG'][i][0])\n",
    "    if df.isna()['FP.CPI.TOTL.ZG'][i][0] == True:\n",
    "        break"
   ]
  },
  {
   "cell_type": "code",
   "execution_count": 281,
   "id": "ae0cf079",
   "metadata": {},
   "outputs": [],
   "source": [
    "df = df.unstack()"
   ]
  },
  {
   "cell_type": "code",
   "execution_count": 283,
   "id": "e8fa7703",
   "metadata": {},
   "outputs": [],
   "source": [
    "df.columns = [2017,2018,2019]"
   ]
  },
  {
   "cell_type": "code",
   "execution_count": 284,
   "id": "605595be",
   "metadata": {},
   "outputs": [
    {
     "data": {
      "text/html": [
       "<div>\n",
       "<style scoped>\n",
       "    .dataframe tbody tr th:only-of-type {\n",
       "        vertical-align: middle;\n",
       "    }\n",
       "\n",
       "    .dataframe tbody tr th {\n",
       "        vertical-align: top;\n",
       "    }\n",
       "\n",
       "    .dataframe thead th {\n",
       "        text-align: right;\n",
       "    }\n",
       "</style>\n",
       "<table border=\"1\" class=\"dataframe\">\n",
       "  <thead>\n",
       "    <tr style=\"text-align: right;\">\n",
       "      <th></th>\n",
       "      <th>2017</th>\n",
       "      <th>2018</th>\n",
       "      <th>2019</th>\n",
       "    </tr>\n",
       "    <tr>\n",
       "      <th>country</th>\n",
       "      <th></th>\n",
       "      <th></th>\n",
       "      <th></th>\n",
       "    </tr>\n",
       "  </thead>\n",
       "  <tbody>\n",
       "    <tr>\n",
       "      <th>Iran, Islamic Rep.</th>\n",
       "      <td>8.044924</td>\n",
       "      <td>18.014118</td>\n",
       "      <td>39.907346</td>\n",
       "    </tr>\n",
       "  </tbody>\n",
       "</table>\n",
       "</div>"
      ],
      "text/plain": [
       "                        2017       2018       2019\n",
       "country                                           \n",
       "Iran, Islamic Rep.  8.044924  18.014118  39.907346"
      ]
     },
     "execution_count": 284,
     "metadata": {},
     "output_type": "execute_result"
    }
   ],
   "source": [
    "df"
   ]
  },
  {
   "cell_type": "code",
   "execution_count": 286,
   "id": "adeb3697",
   "metadata": {},
   "outputs": [],
   "source": [
    "import math"
   ]
  },
  {
   "cell_type": "code",
   "execution_count": 287,
   "id": "65f1c145",
   "metadata": {},
   "outputs": [],
   "source": [
    "def variance(data, ddof=0):\n",
    "    n = len(data)\n",
    "    mean = sum(data) / n\n",
    "    return sum((x - mean) ** 2 for x in data) / (n - ddof)"
   ]
  },
  {
   "cell_type": "code",
   "execution_count": 288,
   "id": "dc8e4ef8",
   "metadata": {},
   "outputs": [],
   "source": [
    "def stdev(data):\n",
    "    var = variance(data)\n",
    "    std_dev = math.sqrt(var)\n",
    "    return std_dev"
   ]
  },
  {
   "cell_type": "code",
   "execution_count": 294,
   "id": "f755a0a1",
   "metadata": {},
   "outputs": [
    {
     "data": {
      "text/plain": [
       "[8.04492437660281, 18.0141183371874, 39.9073455697783]"
      ]
     },
     "execution_count": 294,
     "metadata": {},
     "output_type": "execute_result"
    }
   ],
   "source": [
    "inflation_list = [df[2017][0],df[2018][0],df[2019][0]]\n",
    "inflation_list"
   ]
  },
  {
   "cell_type": "code",
   "execution_count": 296,
   "id": "80dac8b8",
   "metadata": {},
   "outputs": [
    {
     "data": {
      "text/plain": [
       "[8.04492437660281, 18.0141183371874, 39.9073455697783]"
      ]
     },
     "execution_count": 296,
     "metadata": {},
     "output_type": "execute_result"
    }
   ],
   "source": [
    "inflation_list2 = [df[i][0] for i in df.columns]\n",
    "inflation_list2"
   ]
  },
  {
   "cell_type": "code",
   "execution_count": 300,
   "id": "299fe642",
   "metadata": {},
   "outputs": [],
   "source": [
    "#country_name"
   ]
  },
  {
   "cell_type": "code",
   "execution_count": 309,
   "id": "b9d68627",
   "metadata": {},
   "outputs": [
    {
     "data": {
      "text/html": [
       "<div>\n",
       "<style scoped>\n",
       "    .dataframe tbody tr th:only-of-type {\n",
       "        vertical-align: middle;\n",
       "    }\n",
       "\n",
       "    .dataframe tbody tr th {\n",
       "        vertical-align: top;\n",
       "    }\n",
       "\n",
       "    .dataframe thead th {\n",
       "        text-align: right;\n",
       "    }\n",
       "</style>\n",
       "<table border=\"1\" class=\"dataframe\">\n",
       "  <thead>\n",
       "    <tr style=\"text-align: right;\">\n",
       "      <th></th>\n",
       "      <th>stand</th>\n",
       "    </tr>\n",
       "    <tr>\n",
       "      <th>iso3c</th>\n",
       "      <th></th>\n",
       "    </tr>\n",
       "  </thead>\n",
       "  <tbody>\n",
       "    <tr>\n",
       "      <th>ABW</th>\n",
       "      <td>NaN</td>\n",
       "    </tr>\n",
       "    <tr>\n",
       "      <th>AFG</th>\n",
       "      <td>NaN</td>\n",
       "    </tr>\n",
       "    <tr>\n",
       "      <th>AGO</th>\n",
       "      <td>NaN</td>\n",
       "    </tr>\n",
       "    <tr>\n",
       "      <th>ALB</th>\n",
       "      <td>NaN</td>\n",
       "    </tr>\n",
       "    <tr>\n",
       "      <th>AND</th>\n",
       "      <td>NaN</td>\n",
       "    </tr>\n",
       "  </tbody>\n",
       "</table>\n",
       "</div>"
      ],
      "text/plain": [
       "       stand\n",
       "iso3c       \n",
       "ABW      NaN\n",
       "AFG      NaN\n",
       "AGO      NaN\n",
       "ALB      NaN\n",
       "AND      NaN"
      ]
     },
     "execution_count": 309,
     "metadata": {},
     "output_type": "execute_result"
    }
   ],
   "source": [
    "dfnew = pd.DataFrame(index=country_name.iso3c)\n",
    "dfnew['stand'] = np.nan\n",
    "dfnew.head()"
   ]
  },
  {
   "cell_type": "code",
   "execution_count": 389,
   "id": "4aeaadba",
   "metadata": {},
   "outputs": [],
   "source": [
    "nn = country_name.reset_index()"
   ]
  },
  {
   "cell_type": "code",
   "execution_count": 391,
   "id": "615a3b3d",
   "metadata": {},
   "outputs": [
    {
     "data": {
      "text/html": [
       "<div>\n",
       "<style scoped>\n",
       "    .dataframe tbody tr th:only-of-type {\n",
       "        vertical-align: middle;\n",
       "    }\n",
       "\n",
       "    .dataframe tbody tr th {\n",
       "        vertical-align: top;\n",
       "    }\n",
       "\n",
       "    .dataframe thead th {\n",
       "        text-align: right;\n",
       "    }\n",
       "</style>\n",
       "<table border=\"1\" class=\"dataframe\">\n",
       "  <thead>\n",
       "    <tr style=\"text-align: right;\">\n",
       "      <th></th>\n",
       "      <th>name</th>\n",
       "      <th>iso3c</th>\n",
       "      <th>iso2c</th>\n",
       "      <th>region</th>\n",
       "      <th>adminregion</th>\n",
       "      <th>incomeLevel</th>\n",
       "      <th>lendingType</th>\n",
       "      <th>capitalCity</th>\n",
       "      <th>longitude</th>\n",
       "      <th>latitude</th>\n",
       "      <th>name2</th>\n",
       "    </tr>\n",
       "  </thead>\n",
       "  <tbody>\n",
       "    <tr>\n",
       "      <th>198</th>\n",
       "      <td>Tuvalu</td>\n",
       "      <td>TUV</td>\n",
       "      <td>TV</td>\n",
       "      <td>East Asia &amp; Pacific</td>\n",
       "      <td>East Asia &amp; Pacific (excluding high income)</td>\n",
       "      <td>Upper middle income</td>\n",
       "      <td>IDA</td>\n",
       "      <td>Funafuti</td>\n",
       "      <td>179.089567</td>\n",
       "      <td>-8.631488</td>\n",
       "      <td>Tuvalu</td>\n",
       "    </tr>\n",
       "  </tbody>\n",
       "</table>\n",
       "</div>"
      ],
      "text/plain": [
       "       name iso3c iso2c               region  \\\n",
       "198  Tuvalu   TUV    TV  East Asia & Pacific   \n",
       "\n",
       "                                     adminregion          incomeLevel  \\\n",
       "198  East Asia & Pacific (excluding high income)  Upper middle income   \n",
       "\n",
       "    lendingType capitalCity   longitude  latitude   name2  \n",
       "198         IDA    Funafuti  179.089567 -8.631488  Tuvalu  "
      ]
     },
     "execution_count": 391,
     "metadata": {},
     "output_type": "execute_result"
    }
   ],
   "source": [
    "nn[nn.iso3c == 'TUV']"
   ]
  },
  {
   "cell_type": "code",
   "execution_count": 399,
   "id": "9f173346",
   "metadata": {},
   "outputs": [
    {
     "data": {
      "text/plain": [
       "name                 Taiwan, China\n",
       "iso3c                          TWN\n",
       "iso2c                           TW\n",
       "region         East Asia & Pacific\n",
       "adminregion                       \n",
       "incomeLevel            High income\n",
       "lendingType         Not classified\n",
       "capitalCity                       \n",
       "longitude                      NaN\n",
       "latitude                       NaN\n",
       "name2                Taiwan, China\n",
       "Name: 199, dtype: object"
      ]
     },
     "execution_count": 399,
     "metadata": {},
     "output_type": "execute_result"
    }
   ],
   "source": [
    "nn.iloc[199]"
   ]
  },
  {
   "cell_type": "code",
   "execution_count": 403,
   "id": "3d89d82a",
   "metadata": {},
   "outputs": [
    {
     "data": {
      "text/plain": [
       "name\n",
       "Zimbabwe        ZWE\n",
       "Zambia          ZMB\n",
       "South Africa    ZAF\n",
       "Yemen, Rep.     YEM\n",
       "Kosovo          XKX\n",
       "               ... \n",
       "Andorra         AND\n",
       "Albania         ALB\n",
       "Angola          AGO\n",
       "Afghanistan     AFG\n",
       "Aruba           ABW\n",
       "Name: iso3c, Length: 218, dtype: object"
      ]
     },
     "execution_count": 403,
     "metadata": {},
     "output_type": "execute_result"
    }
   ],
   "source": [
    "country_name.iso3c[::-1]"
   ]
  },
  {
   "cell_type": "code",
   "execution_count": 1,
   "id": "f9d7a180",
   "metadata": {},
   "outputs": [],
   "source": [
    "# #num = 1\n",
    "# for i in country_name.iso3c[::-1]:\n",
    "#     print(i)\n",
    "#     if i == 'CHI':\n",
    "#         continue\n",
    "#     if i == 'TWN':\n",
    "#         continue   \n",
    "#     df = wb.download(country=i,indicator= \"FP.CPI.TOTL.ZG\", start=2017 ,end = 2019).unstack()\n",
    "    \n",
    "#     #for b in df.isna()['FP.CPI.TOTL.ZG']:\n",
    "#         #print(df.isna()['FP.CPI.TOTL.ZG'][b][0])\n",
    "#     #    if df.isna()['FP.CPI.TOTL.ZG'][b][0] == True:\n",
    "#     #        break\n",
    "\n",
    "#     inflation_list2 = [df[j][0] for j in df.columns]\n",
    "#     stdd = stdev(inflation_list)\n",
    "#     dfnew.loc[i,'stand'] = stdd\n",
    "#     #print(i)"
   ]
  },
  {
   "cell_type": "code",
   "execution_count": 411,
   "id": "8a0f973f",
   "metadata": {},
   "outputs": [
    {
     "data": {
      "text/html": [
       "<div>\n",
       "<style scoped>\n",
       "    .dataframe tbody tr th:only-of-type {\n",
       "        vertical-align: middle;\n",
       "    }\n",
       "\n",
       "    .dataframe tbody tr th {\n",
       "        vertical-align: top;\n",
       "    }\n",
       "\n",
       "    .dataframe thead th {\n",
       "        text-align: right;\n",
       "    }\n",
       "</style>\n",
       "<table border=\"1\" class=\"dataframe\">\n",
       "  <thead>\n",
       "    <tr style=\"text-align: right;\">\n",
       "      <th></th>\n",
       "      <th>stand</th>\n",
       "    </tr>\n",
       "    <tr>\n",
       "      <th>iso3c</th>\n",
       "      <th></th>\n",
       "    </tr>\n",
       "  </thead>\n",
       "  <tbody>\n",
       "    <tr>\n",
       "      <th>ABW</th>\n",
       "      <td>NaN</td>\n",
       "    </tr>\n",
       "    <tr>\n",
       "      <th>AFG</th>\n",
       "      <td>NaN</td>\n",
       "    </tr>\n",
       "    <tr>\n",
       "      <th>AGO</th>\n",
       "      <td>NaN</td>\n",
       "    </tr>\n",
       "    <tr>\n",
       "      <th>ALB</th>\n",
       "      <td>NaN</td>\n",
       "    </tr>\n",
       "    <tr>\n",
       "      <th>AND</th>\n",
       "      <td>NaN</td>\n",
       "    </tr>\n",
       "    <tr>\n",
       "      <th>...</th>\n",
       "      <td>...</td>\n",
       "    </tr>\n",
       "    <tr>\n",
       "      <th>XKX</th>\n",
       "      <td>NaN</td>\n",
       "    </tr>\n",
       "    <tr>\n",
       "      <th>YEM</th>\n",
       "      <td>NaN</td>\n",
       "    </tr>\n",
       "    <tr>\n",
       "      <th>ZAF</th>\n",
       "      <td>NaN</td>\n",
       "    </tr>\n",
       "    <tr>\n",
       "      <th>ZMB</th>\n",
       "      <td>NaN</td>\n",
       "    </tr>\n",
       "    <tr>\n",
       "      <th>ZWE</th>\n",
       "      <td>NaN</td>\n",
       "    </tr>\n",
       "  </tbody>\n",
       "</table>\n",
       "<p>218 rows × 1 columns</p>\n",
       "</div>"
      ],
      "text/plain": [
       "       stand\n",
       "iso3c       \n",
       "ABW      NaN\n",
       "AFG      NaN\n",
       "AGO      NaN\n",
       "ALB      NaN\n",
       "AND      NaN\n",
       "...      ...\n",
       "XKX      NaN\n",
       "YEM      NaN\n",
       "ZAF      NaN\n",
       "ZMB      NaN\n",
       "ZWE      NaN\n",
       "\n",
       "[218 rows x 1 columns]"
      ]
     },
     "execution_count": 411,
     "metadata": {},
     "output_type": "execute_result"
    }
   ],
   "source": [
    "dfnew"
   ]
  },
  {
   "cell_type": "code",
   "execution_count": 295,
   "id": "a2de3440",
   "metadata": {},
   "outputs": [
    {
     "data": {
      "text/plain": [
       "13.307942954712484"
      ]
     },
     "execution_count": 295,
     "metadata": {},
     "output_type": "execute_result"
    }
   ],
   "source": [
    "stdev(inflation_list)"
   ]
  },
  {
   "cell_type": "markdown",
   "id": "c66b1ac6",
   "metadata": {},
   "source": [
    "### 3. نرخ بهره واقعی"
   ]
  },
  {
   "cell_type": "code",
   "execution_count": null,
   "id": "831b4c6a",
   "metadata": {},
   "outputs": [],
   "source": []
  },
  {
   "cell_type": "code",
   "execution_count": null,
   "id": "707b13a8",
   "metadata": {},
   "outputs": [],
   "source": []
  },
  {
   "cell_type": "markdown",
   "id": "b24eaff6",
   "metadata": {},
   "source": [
    "### 4. نوسانات نرخ ارز\n"
   ]
  },
  {
   "cell_type": "code",
   "execution_count": null,
   "id": "284247e7",
   "metadata": {},
   "outputs": [],
   "source": []
  },
  {
   "cell_type": "code",
   "execution_count": null,
   "id": "9fe3e1ea",
   "metadata": {},
   "outputs": [],
   "source": []
  },
  {
   "cell_type": "markdown",
   "id": "c3b00fdc",
   "metadata": {},
   "source": [
    "### 5. رشد اقتصاد"
   ]
  },
  {
   "cell_type": "code",
   "execution_count": 2,
   "id": "91dae034",
   "metadata": {},
   "outputs": [],
   "source": [
    "def cleaning_cal(df):\n",
    "    df = df.unstack().reset_index()\n",
    "    df.columns = ['name', 'inflation']\n",
    "    df.set_index('name', inplace=True)\n",
    "    \n",
    "    country_name = wb.get_countries()\n",
    "    country_name['name2'] = country_name.name\n",
    "    country_name = country_name.set_index('name')\n",
    "    country_name = country_name[country_name.incomeLevel != \"Aggregates\"]\n",
    "    \n",
    "    \n",
    "    df = df.join(country_name, how='inner').drop(list(df.join(country_name, how='inner').columns[1:]), axis = 1).dropna()\n",
    "    sort_df = df.sort_values('inflation', ascending=False)\n",
    "    \n",
    "    max_10 = sort_df.iloc[0:10]\n",
    "    min_10 = sort_df.iloc[-10:]\n",
    "    \n",
    "    mean_max = max_10.mean()\n",
    "    mean_min = min_10.mean()\n",
    "    \n",
    "    iran_df=df[df.index == 'Iran, Islamic Rep.']\n",
    "    output =  abs(((mean_min - iran_df)) / (mean_max - mean_min) * 100).iloc[0][0]\n",
    "    return output"
   ]
  },
  {
   "cell_type": "code",
   "execution_count": 76,
   "id": "3f41548d",
   "metadata": {},
   "outputs": [],
   "source": [
    "df = wb.download(country='all',indicator= \"NY.GDP.MKTP.KD.ZG\", start=2016 ,end = 2020)"
   ]
  },
  {
   "cell_type": "code",
   "execution_count": 77,
   "id": "5ab8f53b",
   "metadata": {},
   "outputs": [],
   "source": [
    "df = df.unstack().reset_index()"
   ]
  },
  {
   "cell_type": "code",
   "execution_count": 11,
   "id": "17aff043",
   "metadata": {},
   "outputs": [],
   "source": [
    "df.columns = ['country', 2016, 2017, 2018, 2019 , 2020]"
   ]
  },
  {
   "cell_type": "code",
   "execution_count": 16,
   "id": "79b888ca",
   "metadata": {},
   "outputs": [],
   "source": [
    "df['ave'] = df.mean(axis = 1)"
   ]
  },
  {
   "cell_type": "code",
   "execution_count": null,
   "id": "32da582a",
   "metadata": {},
   "outputs": [],
   "source": [
    "df = df[['country','ave']]"
   ]
  },
  {
   "cell_type": "code",
   "execution_count": null,
   "id": "2700a73d",
   "metadata": {},
   "outputs": [],
   "source": [
    "df.set_index('country', inplace=True)"
   ]
  },
  {
   "cell_type": "code",
   "execution_count": 55,
   "id": "48965216",
   "metadata": {},
   "outputs": [
    {
     "data": {
      "text/html": [
       "<div>\n",
       "<style scoped>\n",
       "    .dataframe tbody tr th:only-of-type {\n",
       "        vertical-align: middle;\n",
       "    }\n",
       "\n",
       "    .dataframe tbody tr th {\n",
       "        vertical-align: top;\n",
       "    }\n",
       "\n",
       "    .dataframe thead th {\n",
       "        text-align: right;\n",
       "    }\n",
       "</style>\n",
       "<table border=\"1\" class=\"dataframe\">\n",
       "  <thead>\n",
       "    <tr style=\"text-align: right;\">\n",
       "      <th></th>\n",
       "      <th>ave</th>\n",
       "    </tr>\n",
       "    <tr>\n",
       "      <th>country</th>\n",
       "      <th></th>\n",
       "    </tr>\n",
       "  </thead>\n",
       "  <tbody>\n",
       "    <tr>\n",
       "      <th>Guyana</th>\n",
       "      <td>12.163098</td>\n",
       "    </tr>\n",
       "    <tr>\n",
       "      <th>Ethiopia</th>\n",
       "      <td>8.046905</td>\n",
       "    </tr>\n",
       "    <tr>\n",
       "      <th>Guinea</th>\n",
       "      <td>8.022770</td>\n",
       "    </tr>\n",
       "    <tr>\n",
       "      <th>Bangladesh</th>\n",
       "      <td>6.784645</td>\n",
       "    </tr>\n",
       "    <tr>\n",
       "      <th>Tajikistan</th>\n",
       "      <td>6.700000</td>\n",
       "    </tr>\n",
       "  </tbody>\n",
       "</table>\n",
       "</div>"
      ],
      "text/plain": [
       "                  ave\n",
       "country              \n",
       "Guyana      12.163098\n",
       "Ethiopia     8.046905\n",
       "Guinea       8.022770\n",
       "Bangladesh   6.784645\n",
       "Tajikistan   6.700000"
      ]
     },
     "execution_count": 55,
     "metadata": {},
     "output_type": "execute_result"
    }
   ],
   "source": [
    "df.head()"
   ]
  },
  {
   "cell_type": "code",
   "execution_count": 49,
   "id": "ee67f068",
   "metadata": {},
   "outputs": [],
   "source": [
    "country_name = wb.get_countries()\n",
    "country_name['name2'] = country_name.name\n",
    "country_name = country_name.set_index('name')\n",
    "country_name = country_name[country_name.incomeLevel != \"Aggregates\"]"
   ]
  },
  {
   "cell_type": "code",
   "execution_count": 69,
   "id": "8d04d685",
   "metadata": {},
   "outputs": [],
   "source": [
    "df = df.join(country_name, how='inner').drop(list(df.join(country_name, how='inner').columns[1:]), axis = 1).dropna().sort_values('ave', ascending=False)"
   ]
  },
  {
   "cell_type": "code",
   "execution_count": 70,
   "id": "064677a9",
   "metadata": {},
   "outputs": [
    {
     "data": {
      "text/html": [
       "<div>\n",
       "<style scoped>\n",
       "    .dataframe tbody tr th:only-of-type {\n",
       "        vertical-align: middle;\n",
       "    }\n",
       "\n",
       "    .dataframe tbody tr th {\n",
       "        vertical-align: top;\n",
       "    }\n",
       "\n",
       "    .dataframe thead th {\n",
       "        text-align: right;\n",
       "    }\n",
       "</style>\n",
       "<table border=\"1\" class=\"dataframe\">\n",
       "  <thead>\n",
       "    <tr style=\"text-align: right;\">\n",
       "      <th></th>\n",
       "      <th>ave</th>\n",
       "    </tr>\n",
       "  </thead>\n",
       "  <tbody>\n",
       "    <tr>\n",
       "      <th>Guyana</th>\n",
       "      <td>12.163098</td>\n",
       "    </tr>\n",
       "    <tr>\n",
       "      <th>Ethiopia</th>\n",
       "      <td>8.046905</td>\n",
       "    </tr>\n",
       "    <tr>\n",
       "      <th>Guinea</th>\n",
       "      <td>8.022770</td>\n",
       "    </tr>\n",
       "    <tr>\n",
       "      <th>Bangladesh</th>\n",
       "      <td>6.784645</td>\n",
       "    </tr>\n",
       "    <tr>\n",
       "      <th>Tajikistan</th>\n",
       "      <td>6.700000</td>\n",
       "    </tr>\n",
       "    <tr>\n",
       "      <th>...</th>\n",
       "      <td>...</td>\n",
       "    </tr>\n",
       "    <tr>\n",
       "      <th>Curacao</th>\n",
       "      <td>-5.338493</td>\n",
       "    </tr>\n",
       "    <tr>\n",
       "      <th>Lebanon</th>\n",
       "      <td>-5.591924</td>\n",
       "    </tr>\n",
       "    <tr>\n",
       "      <th>Congo, Rep.</th>\n",
       "      <td>-5.600490</td>\n",
       "    </tr>\n",
       "    <tr>\n",
       "      <th>Equatorial Guinea</th>\n",
       "      <td>-6.318553</td>\n",
       "    </tr>\n",
       "    <tr>\n",
       "      <th>Macao SAR, China</th>\n",
       "      <td>-8.150904</td>\n",
       "    </tr>\n",
       "  </tbody>\n",
       "</table>\n",
       "<p>206 rows × 1 columns</p>\n",
       "</div>"
      ],
      "text/plain": [
       "                         ave\n",
       "Guyana             12.163098\n",
       "Ethiopia            8.046905\n",
       "Guinea              8.022770\n",
       "Bangladesh          6.784645\n",
       "Tajikistan          6.700000\n",
       "...                      ...\n",
       "Curacao            -5.338493\n",
       "Lebanon            -5.591924\n",
       "Congo, Rep.        -5.600490\n",
       "Equatorial Guinea  -6.318553\n",
       "Macao SAR, China   -8.150904\n",
       "\n",
       "[206 rows x 1 columns]"
      ]
     },
     "execution_count": 70,
     "metadata": {},
     "output_type": "execute_result"
    }
   ],
   "source": [
    "df"
   ]
  },
  {
   "cell_type": "code",
   "execution_count": 73,
   "id": "4748b87e",
   "metadata": {},
   "outputs": [
    {
     "name": "stdout",
     "output_type": "stream",
     "text": [
      "53.160515642277225\n"
     ]
    }
   ],
   "source": [
    "max_10 = df.iloc[0:10]\n",
    "min_10 = df.iloc[-10:]\n",
    "\n",
    "mean_max = max_10.mean()\n",
    "mean_min = min_10.mean()\n",
    "\n",
    "iran_df=df[df.index == 'Iran, Islamic Rep.']\n",
    "output =  abs(((mean_min - iran_df)) / (mean_max - mean_min) * 100).iloc[0][0]\n",
    "print(output)"
   ]
  },
  {
   "cell_type": "code",
   "execution_count": 75,
   "id": "316ed685",
   "metadata": {},
   "outputs": [
    {
     "name": "stdout",
     "output_type": "stream",
     "text": [
      "                     ave\n",
      "Guyana         12.163098\n",
      "Ethiopia        8.046905\n",
      "Guinea          8.022770\n",
      "Bangladesh      6.784645\n",
      "Tajikistan      6.700000\n",
      "Myanmar         6.517411\n",
      "Turkmenistan    6.300000\n",
      "Ireland         6.159278\n",
      "Vietnam         6.004423\n",
      "Cote d'Ivoire   5.923834\n",
      "\n",
      "                                ave\n",
      "Palau                     -3.021607\n",
      "Barbados                  -3.340434\n",
      "Trinidad and Tobago       -3.524695\n",
      "Sint Maarten (Dutch part) -3.966667\n",
      "Yemen, Rep.               -4.564824\n",
      "Curacao                   -5.338493\n",
      "Lebanon                   -5.591924\n",
      "Congo, Rep.               -5.600490\n",
      "Equatorial Guinea         -6.318553\n",
      "Macao SAR, China          -8.150904\n",
      "\n",
      "ave    7.262236\n",
      "dtype: float64\n",
      "\n",
      "ave   -4.941859\n",
      "dtype: float64\n",
      "\n",
      "                         ave\n",
      "Iran, Islamic Rep.  1.545901\n",
      "\n",
      "53.160515642277225\n"
     ]
    }
   ],
   "source": [
    "print(max_10)\n",
    "print(\"\")\n",
    "print(min_10)\n",
    "print(\"\")\n",
    "print(mean_max)\n",
    "print(\"\")\n",
    "print(mean_min)\n",
    "print(\"\")\n",
    "print(iran_df)\n",
    "print(\"\")\n",
    "print(output)"
   ]
  },
  {
   "cell_type": "markdown",
   "id": "a71c2c10",
   "metadata": {},
   "source": [
    "### 5. رشد اقتصاد"
   ]
  },
  {
   "cell_type": "code",
   "execution_count": null,
   "id": "f7f6205e",
   "metadata": {},
   "outputs": [],
   "source": [
    "BX.KLT.DINV.WD.GD.ZS"
   ]
  },
  {
   "cell_type": "code",
   "execution_count": null,
   "id": "539fb3f9",
   "metadata": {},
   "outputs": [],
   "source": []
  },
  {
   "cell_type": "code",
   "execution_count": null,
   "id": "36ca17b2",
   "metadata": {},
   "outputs": [],
   "source": []
  },
  {
   "cell_type": "code",
   "execution_count": null,
   "id": "b14b50ac",
   "metadata": {},
   "outputs": [],
   "source": []
  },
  {
   "cell_type": "code",
   "execution_count": null,
   "id": "e6dbb13b",
   "metadata": {},
   "outputs": [],
   "source": []
  }
 ],
 "metadata": {
  "kernelspec": {
   "display_name": "Python 3",
   "language": "python",
   "name": "python3"
  },
  "language_info": {
   "codemirror_mode": {
    "name": "ipython",
    "version": 3
   },
   "file_extension": ".py",
   "mimetype": "text/x-python",
   "name": "python",
   "nbconvert_exporter": "python",
   "pygments_lexer": "ipython3",
   "version": "3.8.8"
  }
 },
 "nbformat": 4,
 "nbformat_minor": 5
}
