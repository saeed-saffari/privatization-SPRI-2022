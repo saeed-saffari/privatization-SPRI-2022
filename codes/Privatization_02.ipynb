{
 "cells": [
  {
   "cell_type": "code",
   "execution_count": 1,
   "id": "027c7f75",
   "metadata": {},
   "outputs": [],
   "source": [
    "import numpy as np\n",
    "import pandas as pd\n",
    "import matplotlib.pyplot as plt"
   ]
  },
  {
   "cell_type": "code",
   "execution_count": 2,
   "id": "ed4e28a9",
   "metadata": {},
   "outputs": [],
   "source": [
    "df_base = pd.read_excel('/Users/saeed/Dropbox/Sharif Business Think Thank/خصوصی سازی/شرکت‌های مورد بررسی.xlsx',sheet_name=1)"
   ]
  },
  {
   "cell_type": "code",
   "execution_count": 3,
   "id": "ed6e9cc1",
   "metadata": {},
   "outputs": [
    {
     "data": {
      "text/html": [
       "<div>\n",
       "<style scoped>\n",
       "    .dataframe tbody tr th:only-of-type {\n",
       "        vertical-align: middle;\n",
       "    }\n",
       "\n",
       "    .dataframe tbody tr th {\n",
       "        vertical-align: top;\n",
       "    }\n",
       "\n",
       "    .dataframe thead th {\n",
       "        text-align: right;\n",
       "    }\n",
       "</style>\n",
       "<table border=\"1\" class=\"dataframe\">\n",
       "  <thead>\n",
       "    <tr style=\"text-align: right;\">\n",
       "      <th></th>\n",
       "      <th>ردیف</th>\n",
       "      <th>نام شرکت</th>\n",
       "      <th>نام نماد</th>\n",
       "      <th>سال خصوصی شده</th>\n",
       "      <th>لینک</th>\n",
       "      <th>Unnamed: 5</th>\n",
       "      <th>سال آخرین صورت مالی</th>\n",
       "      <th>سود (زيان) خالص</th>\n",
       "      <th>سود (زيان) عملياتي</th>\n",
       "      <th>مبلغ فروش</th>\n",
       "      <th>...</th>\n",
       "      <th>جمع حقوق مالکانه</th>\n",
       "      <th>جمع پرسنل</th>\n",
       "      <th>سود (زیان) انباشته</th>\n",
       "      <th>جمع بدهی‌ها</th>\n",
       "      <th>بدهی‌های بلند مدت</th>\n",
       "      <th>گردش مقداری فروش</th>\n",
       "      <th>مواد اولیه</th>\n",
       "      <th>هزینه نیروی کار</th>\n",
       "      <th>هزینه استهلاک</th>\n",
       "      <th>هزینه انرژی</th>\n",
       "    </tr>\n",
       "  </thead>\n",
       "  <tbody>\n",
       "    <tr>\n",
       "      <th>0</th>\n",
       "      <td>1</td>\n",
       "      <td>آلومینیوم ایران (ایرالکو)</td>\n",
       "      <td>فایرا</td>\n",
       "      <td>1397</td>\n",
       "      <td>https://codal.ir/ReportList.aspx?search&amp;Symbol...</td>\n",
       "      <td></td>\n",
       "      <td>1399.0</td>\n",
       "      <td>15702755.0</td>\n",
       "      <td>16632380.0</td>\n",
       "      <td>69373546.0</td>\n",
       "      <td>...</td>\n",
       "      <td>28277313.0</td>\n",
       "      <td>3401.0</td>\n",
       "      <td>17357417.0</td>\n",
       "      <td>21222643.0</td>\n",
       "      <td>2890559.0</td>\n",
       "      <td>43289469.0</td>\n",
       "      <td>37958139.0</td>\n",
       "      <td>2497102.0</td>\n",
       "      <td>477286.0</td>\n",
       "      <td>2371845.0</td>\n",
       "    </tr>\n",
       "    <tr>\n",
       "      <th>1</th>\n",
       "      <td>2</td>\n",
       "      <td>بازرسی کیفیت استاندارد ایران</td>\n",
       "      <td>NaN</td>\n",
       "      <td>NaN</td>\n",
       "      <td>NaN</td>\n",
       "      <td>NaN</td>\n",
       "      <td>NaN</td>\n",
       "      <td>NaN</td>\n",
       "      <td>NaN</td>\n",
       "      <td>NaN</td>\n",
       "      <td>...</td>\n",
       "      <td>NaN</td>\n",
       "      <td>NaN</td>\n",
       "      <td>NaN</td>\n",
       "      <td>NaN</td>\n",
       "      <td>NaN</td>\n",
       "      <td>NaN</td>\n",
       "      <td>NaN</td>\n",
       "      <td>NaN</td>\n",
       "      <td>NaN</td>\n",
       "      <td>NaN</td>\n",
       "    </tr>\n",
       "  </tbody>\n",
       "</table>\n",
       "<p>2 rows × 23 columns</p>\n",
       "</div>"
      ],
      "text/plain": [
       "   ردیف                      نام شرکت نام نماد سال خصوصی شده  \\\n",
       "0     1     آلومینیوم ایران (ایرالکو)    فایرا          1397   \n",
       "1     2  بازرسی کیفیت استاندارد ایران      NaN           NaN   \n",
       "\n",
       "                                                لینک Unnamed: 5  \\\n",
       "0  https://codal.ir/ReportList.aspx?search&Symbol...              \n",
       "1                                                NaN        NaN   \n",
       "\n",
       "   سال آخرین صورت مالی  سود (زيان) خالص  سود (زيان) عملياتي   مبلغ فروش  ...  \\\n",
       "0               1399.0       15702755.0          16632380.0  69373546.0  ...   \n",
       "1                  NaN              NaN                 NaN         NaN  ...   \n",
       "\n",
       "   جمع حقوق مالکانه  جمع پرسنل  سود (زیان) انباشته  جمع بدهی‌ها  \\\n",
       "0        28277313.0     3401.0          17357417.0   21222643.0   \n",
       "1               NaN        NaN                 NaN          NaN   \n",
       "\n",
       "   بدهی‌های بلند مدت  گردش مقداری فروش  مواد اولیه  هزینه نیروی کار  \\\n",
       "0          2890559.0        43289469.0  37958139.0        2497102.0   \n",
       "1                NaN               NaN         NaN              NaN   \n",
       "\n",
       "   هزینه استهلاک  هزینه انرژی  \n",
       "0       477286.0    2371845.0  \n",
       "1            NaN          NaN  \n",
       "\n",
       "[2 rows x 23 columns]"
      ]
     },
     "execution_count": 3,
     "metadata": {},
     "output_type": "execute_result"
    }
   ],
   "source": [
    "df_base.head(2)"
   ]
  },
  {
   "cell_type": "code",
   "execution_count": 4,
   "id": "76eb99a9",
   "metadata": {},
   "outputs": [],
   "source": [
    "df_base = df_base.iloc[0]"
   ]
  },
  {
   "cell_type": "code",
   "execution_count": 5,
   "id": "e6bce66e",
   "metadata": {},
   "outputs": [
    {
     "data": {
      "text/plain": [
       "['ردیف',\n",
       " 'نام شرکت',\n",
       " 'نام نماد',\n",
       " 'سال خصوصی شده',\n",
       " 'لینک',\n",
       " 'Unnamed: 5',\n",
       " 'سال آخرین صورت مالی',\n",
       " 'سود (زيان) خالص',\n",
       " 'سود (زيان) عملياتي',\n",
       " 'مبلغ فروش',\n",
       " 'درصد تغییر سود نسبت به سال قبل',\n",
       " 'نرخ تورم',\n",
       " 'جمع دارایی\\u200cها',\n",
       " 'جمع حقوق مالکانه',\n",
       " 'جمع پرسنل',\n",
       " 'سود (زیان) انباشته',\n",
       " 'جمع بدهی\\u200cها',\n",
       " 'بدهی\\u200cهای بلند مدت',\n",
       " 'گردش مقداری فروش',\n",
       " 'مواد اولیه',\n",
       " 'هزینه نیروی کار',\n",
       " 'هزینه استهلاک',\n",
       " 'هزینه انرژی']"
      ]
     },
     "execution_count": 5,
     "metadata": {},
     "output_type": "execute_result"
    }
   ],
   "source": [
    "list(pd.read_excel('/Users/saeed/Dropbox/Sharif Business Think Thank/خصوصی سازی/شرکت‌های مورد بررسی.xlsx',sheet_name=1).columns)"
   ]
  },
  {
   "cell_type": "code",
   "execution_count": 6,
   "id": "6410abf2",
   "metadata": {},
   "outputs": [
    {
     "data": {
      "text/plain": [
       "ردیف                                                                              1\n",
       "نام شرکت                                                  آلومینیوم ایران (ایرالکو)\n",
       "نام نماد                                                                      فایرا\n",
       "سال خصوصی شده                                                                  1397\n",
       "لینک                              https://codal.ir/ReportList.aspx?search&Symbol...\n",
       "Unnamed: 5                                                                         \n",
       "سال آخرین صورت مالی                                                          1399.0\n",
       "سود (زيان) خالص                                                          15702755.0\n",
       "سود (زيان) عملياتي                                                       16632380.0\n",
       "مبلغ فروش                                                                69373546.0\n",
       "درصد تغییر سود نسبت به سال قبل                                                195.0\n",
       "نرخ تورم                                                                      36.44\n",
       "جمع دارایی‌ها                                                            49499956.0\n",
       "جمع حقوق مالکانه                                                         28277313.0\n",
       "جمع پرسنل                                                                    3401.0\n",
       "سود (زیان) انباشته                                                       17357417.0\n",
       "جمع بدهی‌ها                                                              21222643.0\n",
       "بدهی‌های بلند مدت                                                         2890559.0\n",
       "گردش مقداری فروش                                                         43289469.0\n",
       "مواد اولیه                                                               37958139.0\n",
       "هزینه نیروی کار                                                           2497102.0\n",
       "هزینه استهلاک                                                              477286.0\n",
       "هزینه انرژی                                                               2371845.0\n",
       "Name: 0, dtype: object"
      ]
     },
     "execution_count": 6,
     "metadata": {},
     "output_type": "execute_result"
    }
   ],
   "source": [
    "df_base"
   ]
  },
  {
   "cell_type": "code",
   "execution_count": 7,
   "id": "efcb8d29",
   "metadata": {},
   "outputs": [],
   "source": [
    "df = df_base[[\n",
    "    'نام شرکت',\n",
    "             'سود (زيان) خالص'\n",
    "]]"
   ]
  },
  {
   "cell_type": "code",
   "execution_count": 11,
   "id": "5948a24e",
   "metadata": {},
   "outputs": [],
   "source": [
    "df['سود عملیاتی نسبت به فروش'] = df_base[\"سود (زيان) عملياتي\"] / df_base['مبلغ فروش']\n",
    "df['سودآوری نسبت به تورم'] = df_base['درصد تغییر سود نسبت به سال قبل'] - df_base['نرخ تورم']\n",
    "df['سود خالص نسبت به مجموع دارایی‌ها'] = df_base['سود (زيان) خالص'] / df_base['جمع دارایی\\u200cها']\n",
    "df['سود خالص نسبت به حقوق صاحبان سهام'] = df_base['سود (زيان) خالص'] / df_base['جمع حقوق مالکانه']\n",
    "df['سود خالص نسبت به فروش'] = df_base['سود (زيان) خالص'] / df_base['مبلغ فروش']\n",
    "df['سود خالص نسبت به تعداد کارکنان'] = df_base['سود (زيان) خالص'] / df_base['جمع پرسنل']\n",
    "df['سود (زیان) انباشته به حقوق صاحبان سهام'] = df_base[\"سود (زیان) انباشته\"] / df_base['جمع حقوق مالکانه']\n"
   ]
  },
  {
   "cell_type": "code",
   "execution_count": 12,
   "id": "e5b0906c",
   "metadata": {},
   "outputs": [
    {
     "name": "stdout",
     "output_type": "stream",
     "text": [
      "نام شرکت                                  آلومینیوم ایران (ایرالکو)\n",
      "سود (زيان) خالص                                          15702755.0\n",
      "سود عملیاتی نسبت به فروش                                   0.239751\n",
      "سودآوری نسبت به تورم                                         158.56\n",
      "سود خالص نسبت به مجموع دارایی‌ها                           0.317228\n",
      "سود خالص نسبت به حقوق صاحبان سهام                          0.555313\n",
      "سود خالص نسبت به فروش                                      0.226351\n",
      "سود خالص نسبت به تعداد کارکنان                          4617.099383\n",
      "سود (زیان) انباشته به حقوق صاحبان سهام                     0.613828\n",
      "Name: 0, dtype: object\n"
     ]
    }
   ],
   "source": [
    "print(df)"
   ]
  },
  {
   "cell_type": "code",
   "execution_count": null,
   "id": "abea8d2a",
   "metadata": {},
   "outputs": [],
   "source": []
  },
  {
   "cell_type": "code",
   "execution_count": null,
   "id": "fbc3f60c",
   "metadata": {},
   "outputs": [],
   "source": []
  }
 ],
 "metadata": {
  "kernelspec": {
   "display_name": "Python 3",
   "language": "python",
   "name": "python3"
  },
  "language_info": {
   "codemirror_mode": {
    "name": "ipython",
    "version": 3
   },
   "file_extension": ".py",
   "mimetype": "text/x-python",
   "name": "python",
   "nbconvert_exporter": "python",
   "pygments_lexer": "ipython3",
   "version": "3.8.8"
  }
 },
 "nbformat": 4,
 "nbformat_minor": 5
}
