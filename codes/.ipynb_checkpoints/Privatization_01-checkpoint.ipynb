{
 "cells": [
  {
   "cell_type": "markdown",
   "id": "cfc63d86",
   "metadata": {},
   "source": [
    "# <center> Privatization Index"
   ]
  },
  {
   "cell_type": "markdown",
   "id": "d1f2bddf",
   "metadata": {},
   "source": [
    "## First Step: Economics Indexes\n",
    "\n",
    "List of indexes:\n",
    "\n",
    " \n",
    "\n",
    "1. تورم\n",
    "2. نوسانات تورم\n",
    "3. نرخ بهره واقعی  \n",
    "4. نوسانات نرخ ارز\n",
    "5. رشد اقتصاد\n",
    "6. کانال بودجه‌ای دخالت دولت در بنگاه‌داری\n",
    "7. امتیاز پایش محیط کسب و کار در ایران**\n",
    "8. عملکرد دستگاه‌های اجرایی مرتبط با محیط کسب و کار**\n",
    "9. میزان سرمایه‌گذاری خارجی\n",
    "10. میزان تامین مالی از سرمایه خارجی\n",
    "11. میزان تامین مالی از بازار سرمایه\n",
    "12. عمق بازار سرمایه\n",
    "13. نسبت ارزش واگذاری‌ها به صورت رد دیون به ارزش کل واگذاری‌ها در هر سال**\n",
    "\n"
   ]
  },
  {
   "cell_type": "markdown",
   "id": "66977a8a",
   "metadata": {},
   "source": [
    "## Big picture Formula\n",
    "\n",
    "$$ \\left\\lvert \\frac{worth \\space\\space performances - x}{worth \\space\\space performance - best \\space\\space performances \\space\\space} \\right\\lvert $$"
   ]
  },
  {
   "cell_type": "markdown",
   "id": "a648713e",
   "metadata": {},
   "source": [
    "#### Imports"
   ]
  },
  {
   "cell_type": "code",
   "execution_count": 7,
   "id": "7a4622a7",
   "metadata": {},
   "outputs": [],
   "source": [
    "import numpy as np\n",
    "import pandas as pd\n",
    "from pandas_datareader import wb\n",
    "import matplotlib.pyplot as plt"
   ]
  },
  {
   "cell_type": "markdown",
   "id": "46caae14",
   "metadata": {},
   "source": [
    "#### Testing formulas"
   ]
  },
  {
   "cell_type": "code",
   "execution_count": 165,
   "id": "6b280ef5",
   "metadata": {
    "scrolled": true
   },
   "outputs": [],
   "source": [
    "inflation = wb.download(country='all',indicator= \"FP.CPI.TOTL.ZG\", start=2019 ,end = 2019)"
   ]
  },
  {
   "cell_type": "code",
   "execution_count": 166,
   "id": "af22ab37",
   "metadata": {},
   "outputs": [],
   "source": [
    "inflation = inflation.unstack().reset_index()"
   ]
  },
  {
   "cell_type": "code",
   "execution_count": 168,
   "id": "7212a4d2",
   "metadata": {},
   "outputs": [],
   "source": [
    "#inflation.drop(['level_0', 'year',],axis = 1, inplace=True)"
   ]
  },
  {
   "cell_type": "code",
   "execution_count": 174,
   "id": "f0dc8dab",
   "metadata": {},
   "outputs": [],
   "source": [
    "#inflation.columns"
   ]
  },
  {
   "cell_type": "code",
   "execution_count": 170,
   "id": "b0885890",
   "metadata": {},
   "outputs": [],
   "source": [
    "inflation.columns = ['name', 'inflation']"
   ]
  },
  {
   "cell_type": "code",
   "execution_count": 172,
   "id": "a4898461",
   "metadata": {},
   "outputs": [],
   "source": [
    "inflation.set_index('name', inplace=True)"
   ]
  },
  {
   "cell_type": "code",
   "execution_count": 63,
   "id": "a5ae8d1f",
   "metadata": {},
   "outputs": [],
   "source": [
    "country_name = wb.get_countries()"
   ]
  },
  {
   "cell_type": "code",
   "execution_count": 65,
   "id": "2e021484",
   "metadata": {},
   "outputs": [],
   "source": [
    "country_name['name2'] = country_name.name"
   ]
  },
  {
   "cell_type": "code",
   "execution_count": 66,
   "id": "7e832c31",
   "metadata": {},
   "outputs": [],
   "source": [
    "country_name = country_name.set_index('name')"
   ]
  },
  {
   "cell_type": "code",
   "execution_count": 67,
   "id": "92378a30",
   "metadata": {},
   "outputs": [],
   "source": [
    "country_name = country_name[country_name.incomeLevel != \"Aggregates\"]"
   ]
  },
  {
   "cell_type": "code",
   "execution_count": 175,
   "id": "f372cbeb",
   "metadata": {},
   "outputs": [],
   "source": [
    "inflation = inflation.join(country_name, how='inner').drop(list(inflation.join(country_name, how='inner').columns[1:]), axis = 1).dropna()"
   ]
  },
  {
   "cell_type": "code",
   "execution_count": 176,
   "id": "e673c241",
   "metadata": {},
   "outputs": [],
   "source": [
    "sort_inflation = inflation.sort_values('inflation', ascending=False)"
   ]
  },
  {
   "cell_type": "code",
   "execution_count": 218,
   "id": "90eaef05",
   "metadata": {},
   "outputs": [],
   "source": [
    "max_10 = sort_inflation.iloc[0:10]\n",
    "#max_10.head(10)"
   ]
  },
  {
   "cell_type": "code",
   "execution_count": 219,
   "id": "bf0c6637",
   "metadata": {},
   "outputs": [],
   "source": [
    "#sort_inflation.iloc[0:20]"
   ]
  },
  {
   "cell_type": "code",
   "execution_count": 220,
   "id": "8b9b905d",
   "metadata": {},
   "outputs": [],
   "source": [
    "min_10 = sort_inflation.iloc[-10:]\n",
    "#min_10.head(10)"
   ]
  },
  {
   "cell_type": "code",
   "execution_count": 221,
   "id": "38362b4e",
   "metadata": {},
   "outputs": [],
   "source": [
    "mean_max = max_10.mean()\n",
    "#print(mean_max)"
   ]
  },
  {
   "cell_type": "code",
   "execution_count": 222,
   "id": "56e01472",
   "metadata": {},
   "outputs": [],
   "source": [
    "mean_min = min_10.mean()\n",
    "#print(mean_min)"
   ]
  },
  {
   "cell_type": "code",
   "execution_count": 223,
   "id": "8244cb96",
   "metadata": {},
   "outputs": [],
   "source": [
    "iran_inflation=inflation[inflation.index == 'Iran, Islamic Rep.']\n",
    "#print(iran_inflation)"
   ]
  },
  {
   "cell_type": "code",
   "execution_count": 204,
   "id": "73d5b347",
   "metadata": {},
   "outputs": [
    {
     "data": {
      "text/plain": [
       "76.54813541278564"
      ]
     },
     "execution_count": 204,
     "metadata": {},
     "output_type": "execute_result"
    }
   ],
   "source": [
    "abs(((mean_min - iran_inflation)) / (mean_max - mean_min) * 100).iloc[0][0]"
   ]
  },
  {
   "cell_type": "code",
   "execution_count": null,
   "id": "fab7846e",
   "metadata": {},
   "outputs": [],
   "source": []
  },
  {
   "cell_type": "markdown",
   "id": "a1760edb",
   "metadata": {},
   "source": [
    "### Finaly function"
   ]
  },
  {
   "cell_type": "code",
   "execution_count": 216,
   "id": "6b554c43",
   "metadata": {},
   "outputs": [],
   "source": [
    "def cleaning_cal(df):\n",
    "    df = df.unstack().reset_index()\n",
    "    df.columns = ['name', 'inflation']\n",
    "    df.set_index('name', inplace=True)\n",
    "    \n",
    "    country_name = wb.get_countries()\n",
    "    country_name['name2'] = country_name.name\n",
    "    country_name = country_name.set_index('name')\n",
    "    country_name = country_name[country_name.incomeLevel != \"Aggregates\"]\n",
    "    \n",
    "    \n",
    "    df = df.join(country_name, how='inner').drop(list(df.join(country_name, how='inner').columns[1:]), axis = 1).dropna()\n",
    "    sort_df = df.sort_values('inflation', ascending=False)\n",
    "    \n",
    "    max_10 = sort_df.iloc[0:10]\n",
    "    min_10 = sort_df.iloc[-10:]\n",
    "    \n",
    "    mean_max = max_10.mean()\n",
    "    mean_min = min_10.mean()\n",
    "    \n",
    "    iran_df=df[df.index == 'Iran, Islamic Rep.']\n",
    "    output =  abs(((mean_min - iran_df)) / (mean_max - mean_min) * 100).iloc[0][0]\n",
    "    return output"
   ]
  },
  {
   "cell_type": "code",
   "execution_count": 213,
   "id": "9609ca05",
   "metadata": {},
   "outputs": [],
   "source": [
    "df = wb.download(country='all',indicator= \"FP.CPI.TOTL.ZG\", start=2019 ,end = 2019)"
   ]
  },
  {
   "cell_type": "code",
   "execution_count": 217,
   "id": "d4661225",
   "metadata": {},
   "outputs": [
    {
     "data": {
      "text/plain": [
       "76.54813541278564"
      ]
     },
     "execution_count": 217,
     "metadata": {},
     "output_type": "execute_result"
    }
   ],
   "source": [
    "cleaning_cal(df)"
   ]
  },
  {
   "cell_type": "code",
   "execution_count": null,
   "id": "1bc2d728",
   "metadata": {},
   "outputs": [],
   "source": []
  },
  {
   "cell_type": "code",
   "execution_count": null,
   "id": "dfe9acf2",
   "metadata": {},
   "outputs": [],
   "source": []
  }
 ],
 "metadata": {
  "kernelspec": {
   "display_name": "Python 3",
   "language": "python",
   "name": "python3"
  },
  "language_info": {
   "codemirror_mode": {
    "name": "ipython",
    "version": 3
   },
   "file_extension": ".py",
   "mimetype": "text/x-python",
   "name": "python",
   "nbconvert_exporter": "python",
   "pygments_lexer": "ipython3",
   "version": "3.8.8"
  }
 },
 "nbformat": 4,
 "nbformat_minor": 5
}
