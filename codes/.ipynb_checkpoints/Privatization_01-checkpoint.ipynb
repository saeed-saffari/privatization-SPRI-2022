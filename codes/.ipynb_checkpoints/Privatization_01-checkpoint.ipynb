{
 "cells": [
  {
   "cell_type": "markdown",
   "id": "cfc63d86",
   "metadata": {},
   "source": [
    "# <center> Privatization Index"
   ]
  },
  {
   "cell_type": "markdown",
   "id": "d1f2bddf",
   "metadata": {},
   "source": [
    "## First Step: Economics Indexes\n",
    "\n",
    "List of indexes:\n",
    "\n",
    " \n",
    "\n",
    "1. <font color='green' > تورم </font>\n",
    "2. نوسانات تورم\n",
    "3. نرخ بهره واقعی  \n",
    "4. نوسانات نرخ ارز\n",
    "5. <font color='green' >  رشد اقتصاد </font>\n",
    "6. کانال بودجه‌ای دخالت دولت در بنگاه‌داری\n",
    "7. امتیاز پایش محیط کسب و کار در ایران**\n",
    "8. عملکرد دستگاه‌های اجرایی مرتبط با محیط کسب و کار**\n",
    "9. میزان سرمایه‌گذاری خارجی\n",
    "10. میزان تامین مالی از سرمایه خارجی\n",
    "11. میزان تامین مالی از بازار سرمایه\n",
    "12. عمق بازار سرمایه\n",
    "13. نسبت ارزش واگذاری‌ها به صورت رد دیون به ارزش کل واگذاری‌ها در هر سال**\n",
    "\n"
   ]
  },
  {
   "cell_type": "markdown",
   "id": "66977a8a",
   "metadata": {},
   "source": [
    "## Big picture Formula\n",
    "\n",
    "$$ \\left\\lvert \\frac{worth \\space\\space performances - x}{worth \\space\\space performance - best \\space\\space performances \\space\\space} \\right\\lvert $$"
   ]
  },
  {
   "cell_type": "markdown",
   "id": "a648713e",
   "metadata": {},
   "source": [
    "#### Imports"
   ]
  },
  {
   "cell_type": "code",
   "execution_count": 5,
   "id": "7a4622a7",
   "metadata": {},
   "outputs": [],
   "source": [
    "import numpy as np\n",
    "import pandas as pd\n",
    "from pandas_datareader import wb\n",
    "import matplotlib.pyplot as plt"
   ]
  },
  {
   "cell_type": "markdown",
   "id": "46caae14",
   "metadata": {},
   "source": [
    "#### Testing formulas"
   ]
  },
  {
   "cell_type": "code",
   "execution_count": 165,
   "id": "6b280ef5",
   "metadata": {
    "scrolled": true
   },
   "outputs": [],
   "source": [
    "inflation = wb.download(country='all',indicator= \"FP.CPI.TOTL.ZG\", start=2019 ,end = 2019)"
   ]
  },
  {
   "cell_type": "code",
   "execution_count": 166,
   "id": "af22ab37",
   "metadata": {},
   "outputs": [],
   "source": [
    "inflation = inflation.unstack().reset_index()"
   ]
  },
  {
   "cell_type": "code",
   "execution_count": 168,
   "id": "7212a4d2",
   "metadata": {},
   "outputs": [],
   "source": [
    "#inflation.drop(['level_0', 'year',],axis = 1, inplace=True)"
   ]
  },
  {
   "cell_type": "code",
   "execution_count": 174,
   "id": "f0dc8dab",
   "metadata": {},
   "outputs": [],
   "source": [
    "#inflation.columns"
   ]
  },
  {
   "cell_type": "code",
   "execution_count": 170,
   "id": "b0885890",
   "metadata": {},
   "outputs": [],
   "source": [
    "inflation.columns = ['name', 'inflation']"
   ]
  },
  {
   "cell_type": "code",
   "execution_count": 172,
   "id": "a4898461",
   "metadata": {},
   "outputs": [],
   "source": [
    "inflation.set_index('name', inplace=True)"
   ]
  },
  {
   "cell_type": "code",
   "execution_count": 63,
   "id": "a5ae8d1f",
   "metadata": {},
   "outputs": [],
   "source": [
    "country_name = wb.get_countries()"
   ]
  },
  {
   "cell_type": "code",
   "execution_count": 65,
   "id": "2e021484",
   "metadata": {},
   "outputs": [],
   "source": [
    "country_name['name2'] = country_name.name"
   ]
  },
  {
   "cell_type": "code",
   "execution_count": 66,
   "id": "7e832c31",
   "metadata": {},
   "outputs": [],
   "source": [
    "country_name = country_name.set_index('name')"
   ]
  },
  {
   "cell_type": "code",
   "execution_count": 67,
   "id": "92378a30",
   "metadata": {},
   "outputs": [],
   "source": [
    "country_name = country_name[country_name.incomeLevel != \"Aggregates\"]"
   ]
  },
  {
   "cell_type": "code",
   "execution_count": 175,
   "id": "f372cbeb",
   "metadata": {},
   "outputs": [],
   "source": [
    "inflation = inflation.join(country_name, how='inner').drop(list(inflation.join(country_name, how='inner').columns[1:]), axis = 1).dropna()"
   ]
  },
  {
   "cell_type": "code",
   "execution_count": 176,
   "id": "e673c241",
   "metadata": {},
   "outputs": [],
   "source": [
    "sort_inflation = inflation.sort_values('inflation', ascending=False)"
   ]
  },
  {
   "cell_type": "code",
   "execution_count": 218,
   "id": "90eaef05",
   "metadata": {},
   "outputs": [],
   "source": [
    "max_10 = sort_inflation.iloc[0:10]\n",
    "#max_10.head(10)"
   ]
  },
  {
   "cell_type": "code",
   "execution_count": 219,
   "id": "bf0c6637",
   "metadata": {},
   "outputs": [],
   "source": [
    "#sort_inflation.iloc[0:20]"
   ]
  },
  {
   "cell_type": "code",
   "execution_count": 220,
   "id": "8b9b905d",
   "metadata": {},
   "outputs": [],
   "source": [
    "min_10 = sort_inflation.iloc[-10:]\n",
    "#min_10.head(10)"
   ]
  },
  {
   "cell_type": "code",
   "execution_count": 221,
   "id": "38362b4e",
   "metadata": {},
   "outputs": [],
   "source": [
    "mean_max = max_10.mean()\n",
    "#print(mean_max)"
   ]
  },
  {
   "cell_type": "code",
   "execution_count": 222,
   "id": "56e01472",
   "metadata": {},
   "outputs": [],
   "source": [
    "mean_min = min_10.mean()\n",
    "#print(mean_min)"
   ]
  },
  {
   "cell_type": "code",
   "execution_count": 223,
   "id": "8244cb96",
   "metadata": {},
   "outputs": [],
   "source": [
    "iran_inflation=inflation[inflation.index == 'Iran, Islamic Rep.']\n",
    "#print(iran_inflation)"
   ]
  },
  {
   "cell_type": "code",
   "execution_count": 204,
   "id": "73d5b347",
   "metadata": {},
   "outputs": [
    {
     "data": {
      "text/plain": [
       "76.54813541278564"
      ]
     },
     "execution_count": 204,
     "metadata": {},
     "output_type": "execute_result"
    }
   ],
   "source": [
    "abs(((mean_min - iran_inflation)) / (mean_max - mean_min) * 100).iloc[0][0]"
   ]
  },
  {
   "cell_type": "code",
   "execution_count": null,
   "id": "fab7846e",
   "metadata": {},
   "outputs": [],
   "source": []
  },
  {
   "cell_type": "markdown",
   "id": "a1760edb",
   "metadata": {},
   "source": [
    "### Finaly function"
   ]
  },
  {
   "cell_type": "code",
   "execution_count": 92,
   "id": "6b554c43",
   "metadata": {},
   "outputs": [],
   "source": [
    "def cleaning_cal(df):\n",
    "    global sort_df,max_10,min_10,mean_max,mean_min,iran_df,output\n",
    "    df = df.unstack().reset_index()\n",
    "    df.columns = ['name', 'inflation']\n",
    "    df.set_index('name', inplace=True)\n",
    "    \n",
    "    country_name = wb.get_countries()\n",
    "    country_name['name2'] = country_name.name\n",
    "    country_name = country_name.set_index('name')\n",
    "    country_name = country_name[country_name.incomeLevel != \"Aggregates\"]\n",
    "    \n",
    "    \n",
    "    df = df.join(country_name, how='inner').drop(list(df.join(country_name, how='inner').columns[1:]), axis = 1).dropna()\n",
    "    sort_df = df.sort_values('inflation', ascending=False)\n",
    "    \n",
    "    max_10 = sort_df.iloc[0:10]\n",
    "    min_10 = sort_df.iloc[-10:]\n",
    "    \n",
    "    mean_max = max_10.mean()\n",
    "    mean_min = min_10.mean()\n",
    "    \n",
    "    iran_df=df[df.index == 'Iran, Islamic Rep.']\n",
    "    output =  abs(((mean_min - iran_df)) / (mean_max - mean_min) * 100).iloc[0][0]\n",
    "    return output"
   ]
  },
  {
   "cell_type": "code",
   "execution_count": 93,
   "id": "9609ca05",
   "metadata": {},
   "outputs": [],
   "source": [
    "df = wb.download(country='all',indicator= \"FP.CPI.TOTL.ZG\", start=2019 ,end = 2019)"
   ]
  },
  {
   "cell_type": "code",
   "execution_count": 94,
   "id": "d4661225",
   "metadata": {},
   "outputs": [
    {
     "data": {
      "text/plain": [
       "76.54813541278564"
      ]
     },
     "execution_count": 94,
     "metadata": {},
     "output_type": "execute_result"
    }
   ],
   "source": [
    "cleaning_cal(df)"
   ]
  },
  {
   "cell_type": "code",
   "execution_count": 97,
   "id": "1bc2d728",
   "metadata": {},
   "outputs": [
    {
     "data": {
      "text/html": [
       "<div>\n",
       "<style scoped>\n",
       "    .dataframe tbody tr th:only-of-type {\n",
       "        vertical-align: middle;\n",
       "    }\n",
       "\n",
       "    .dataframe tbody tr th {\n",
       "        vertical-align: top;\n",
       "    }\n",
       "\n",
       "    .dataframe thead th {\n",
       "        text-align: right;\n",
       "    }\n",
       "</style>\n",
       "<table border=\"1\" class=\"dataframe\">\n",
       "  <thead>\n",
       "    <tr style=\"text-align: right;\">\n",
       "      <th></th>\n",
       "      <th>inflation</th>\n",
       "    </tr>\n",
       "    <tr>\n",
       "      <th>name</th>\n",
       "      <th></th>\n",
       "    </tr>\n",
       "  </thead>\n",
       "  <tbody>\n",
       "    <tr>\n",
       "      <th>Kiribati</th>\n",
       "      <td>-1.813080</td>\n",
       "    </tr>\n",
       "    <tr>\n",
       "      <th>United Arab Emirates</th>\n",
       "      <td>-1.931081</td>\n",
       "    </tr>\n",
       "    <tr>\n",
       "      <th>Saudi Arabia</th>\n",
       "      <td>-2.093333</td>\n",
       "    </tr>\n",
       "    <tr>\n",
       "      <th>Niger</th>\n",
       "      <td>-2.489793</td>\n",
       "    </tr>\n",
       "    <tr>\n",
       "      <th>Burkina Faso</th>\n",
       "      <td>-3.233389</td>\n",
       "    </tr>\n",
       "  </tbody>\n",
       "</table>\n",
       "</div>"
      ],
      "text/plain": [
       "                      inflation\n",
       "name                           \n",
       "Kiribati              -1.813080\n",
       "United Arab Emirates  -1.931081\n",
       "Saudi Arabia          -2.093333\n",
       "Niger                 -2.489793\n",
       "Burkina Faso          -3.233389"
      ]
     },
     "execution_count": 97,
     "metadata": {},
     "output_type": "execute_result"
    }
   ],
   "source": [
    "sort_df.tail()"
   ]
  },
  {
   "cell_type": "markdown",
   "id": "81d5acbd",
   "metadata": {},
   "source": [
    "## Indicators"
   ]
  },
  {
   "cell_type": "markdown",
   "id": "6772824f",
   "metadata": {},
   "source": [
    "### 1. تورم"
   ]
  },
  {
   "cell_type": "code",
   "execution_count": 269,
   "id": "d56ba2fb",
   "metadata": {},
   "outputs": [],
   "source": [
    "# CPI for 2019\n",
    "df = wb.download(country='all',indicator= \"FP.CPI.TOTL.ZG\", start=2019 ,end = 2019)"
   ]
  },
  {
   "cell_type": "code",
   "execution_count": 266,
   "id": "1df31d0d",
   "metadata": {},
   "outputs": [
    {
     "data": {
      "text/plain": [
       "76.54813541278564"
      ]
     },
     "execution_count": 266,
     "metadata": {},
     "output_type": "execute_result"
    }
   ],
   "source": [
    "cleaning_cal(df)"
   ]
  },
  {
   "cell_type": "code",
   "execution_count": null,
   "id": "d10d1bd7",
   "metadata": {},
   "outputs": [],
   "source": []
  },
  {
   "cell_type": "markdown",
   "id": "fa2161ae",
   "metadata": {},
   "source": [
    "### 2.  انحراف معیار تورم سالانه "
   ]
  },
  {
   "cell_type": "code",
   "execution_count": 98,
   "id": "014380bc",
   "metadata": {},
   "outputs": [],
   "source": [
    "# std CPI for 2019\n",
    "df = wb.download(country='all',indicator= \"FP.CPI.TOTL.ZG\", start=2017 ,end = 2019).unstack()"
   ]
  },
  {
   "cell_type": "code",
   "execution_count": 99,
   "id": "72e5784e",
   "metadata": {},
   "outputs": [
    {
     "data": {
      "text/html": [
       "<div>\n",
       "<style scoped>\n",
       "    .dataframe tbody tr th:only-of-type {\n",
       "        vertical-align: middle;\n",
       "    }\n",
       "\n",
       "    .dataframe tbody tr th {\n",
       "        vertical-align: top;\n",
       "    }\n",
       "\n",
       "    .dataframe thead tr th {\n",
       "        text-align: left;\n",
       "    }\n",
       "\n",
       "    .dataframe thead tr:last-of-type th {\n",
       "        text-align: right;\n",
       "    }\n",
       "</style>\n",
       "<table border=\"1\" class=\"dataframe\">\n",
       "  <thead>\n",
       "    <tr>\n",
       "      <th></th>\n",
       "      <th colspan=\"3\" halign=\"left\">FP.CPI.TOTL.ZG</th>\n",
       "    </tr>\n",
       "    <tr>\n",
       "      <th>year</th>\n",
       "      <th>2017</th>\n",
       "      <th>2018</th>\n",
       "      <th>2019</th>\n",
       "    </tr>\n",
       "    <tr>\n",
       "      <th>country</th>\n",
       "      <th></th>\n",
       "      <th></th>\n",
       "      <th></th>\n",
       "    </tr>\n",
       "  </thead>\n",
       "  <tbody>\n",
       "    <tr>\n",
       "      <th>Afghanistan</th>\n",
       "      <td>4.975952</td>\n",
       "      <td>0.626149</td>\n",
       "      <td>2.302373</td>\n",
       "    </tr>\n",
       "    <tr>\n",
       "      <th>Africa Eastern and Southern</th>\n",
       "      <td>6.399343</td>\n",
       "      <td>4.720811</td>\n",
       "      <td>4.124351</td>\n",
       "    </tr>\n",
       "    <tr>\n",
       "      <th>Africa Western and Central</th>\n",
       "      <td>1.764635</td>\n",
       "      <td>1.784050</td>\n",
       "      <td>1.758565</td>\n",
       "    </tr>\n",
       "    <tr>\n",
       "      <th>Albania</th>\n",
       "      <td>2.060598</td>\n",
       "      <td>2.028060</td>\n",
       "      <td>1.411091</td>\n",
       "    </tr>\n",
       "    <tr>\n",
       "      <th>Algeria</th>\n",
       "      <td>5.591116</td>\n",
       "      <td>4.269990</td>\n",
       "      <td>1.951768</td>\n",
       "    </tr>\n",
       "    <tr>\n",
       "      <th>...</th>\n",
       "      <td>...</td>\n",
       "      <td>...</td>\n",
       "      <td>...</td>\n",
       "    </tr>\n",
       "    <tr>\n",
       "      <th>West Bank and Gaza</th>\n",
       "      <td>0.212571</td>\n",
       "      <td>-0.195108</td>\n",
       "      <td>1.580183</td>\n",
       "    </tr>\n",
       "    <tr>\n",
       "      <th>World</th>\n",
       "      <td>2.192010</td>\n",
       "      <td>2.438737</td>\n",
       "      <td>2.206073</td>\n",
       "    </tr>\n",
       "    <tr>\n",
       "      <th>Yemen, Rep.</th>\n",
       "      <td>NaN</td>\n",
       "      <td>NaN</td>\n",
       "      <td>NaN</td>\n",
       "    </tr>\n",
       "    <tr>\n",
       "      <th>Zambia</th>\n",
       "      <td>6.577312</td>\n",
       "      <td>7.494572</td>\n",
       "      <td>9.150316</td>\n",
       "    </tr>\n",
       "    <tr>\n",
       "      <th>Zimbabwe</th>\n",
       "      <td>0.893962</td>\n",
       "      <td>10.618866</td>\n",
       "      <td>255.304991</td>\n",
       "    </tr>\n",
       "  </tbody>\n",
       "</table>\n",
       "<p>266 rows × 3 columns</p>\n",
       "</div>"
      ],
      "text/plain": [
       "                            FP.CPI.TOTL.ZG                       \n",
       "year                                  2017       2018        2019\n",
       "country                                                          \n",
       "Afghanistan                       4.975952   0.626149    2.302373\n",
       "Africa Eastern and Southern       6.399343   4.720811    4.124351\n",
       "Africa Western and Central        1.764635   1.784050    1.758565\n",
       "Albania                           2.060598   2.028060    1.411091\n",
       "Algeria                           5.591116   4.269990    1.951768\n",
       "...                                    ...        ...         ...\n",
       "West Bank and Gaza                0.212571  -0.195108    1.580183\n",
       "World                             2.192010   2.438737    2.206073\n",
       "Yemen, Rep.                            NaN        NaN         NaN\n",
       "Zambia                            6.577312   7.494572    9.150316\n",
       "Zimbabwe                          0.893962  10.618866  255.304991\n",
       "\n",
       "[266 rows x 3 columns]"
      ]
     },
     "execution_count": 99,
     "metadata": {},
     "output_type": "execute_result"
    }
   ],
   "source": [
    "df"
   ]
  },
  {
   "cell_type": "code",
   "execution_count": 100,
   "id": "62237dd1",
   "metadata": {},
   "outputs": [],
   "source": [
    "df.columns = [2017,2018,2019]"
   ]
  },
  {
   "cell_type": "code",
   "execution_count": 103,
   "id": "a1136542",
   "metadata": {},
   "outputs": [
    {
     "data": {
      "text/html": [
       "<div>\n",
       "<style scoped>\n",
       "    .dataframe tbody tr th:only-of-type {\n",
       "        vertical-align: middle;\n",
       "    }\n",
       "\n",
       "    .dataframe tbody tr th {\n",
       "        vertical-align: top;\n",
       "    }\n",
       "\n",
       "    .dataframe thead th {\n",
       "        text-align: right;\n",
       "    }\n",
       "</style>\n",
       "<table border=\"1\" class=\"dataframe\">\n",
       "  <thead>\n",
       "    <tr style=\"text-align: right;\">\n",
       "      <th></th>\n",
       "      <th>2017</th>\n",
       "      <th>2018</th>\n",
       "      <th>2019</th>\n",
       "    </tr>\n",
       "    <tr>\n",
       "      <th>country</th>\n",
       "      <th></th>\n",
       "      <th></th>\n",
       "      <th></th>\n",
       "    </tr>\n",
       "  </thead>\n",
       "  <tbody>\n",
       "    <tr>\n",
       "      <th>Afghanistan</th>\n",
       "      <td>4.975952</td>\n",
       "      <td>0.626149</td>\n",
       "      <td>2.302373</td>\n",
       "    </tr>\n",
       "    <tr>\n",
       "      <th>Africa Eastern and Southern</th>\n",
       "      <td>6.399343</td>\n",
       "      <td>4.720811</td>\n",
       "      <td>4.124351</td>\n",
       "    </tr>\n",
       "    <tr>\n",
       "      <th>Africa Western and Central</th>\n",
       "      <td>1.764635</td>\n",
       "      <td>1.784050</td>\n",
       "      <td>1.758565</td>\n",
       "    </tr>\n",
       "    <tr>\n",
       "      <th>Albania</th>\n",
       "      <td>2.060598</td>\n",
       "      <td>2.028060</td>\n",
       "      <td>1.411091</td>\n",
       "    </tr>\n",
       "    <tr>\n",
       "      <th>Algeria</th>\n",
       "      <td>5.591116</td>\n",
       "      <td>4.269990</td>\n",
       "      <td>1.951768</td>\n",
       "    </tr>\n",
       "    <tr>\n",
       "      <th>...</th>\n",
       "      <td>...</td>\n",
       "      <td>...</td>\n",
       "      <td>...</td>\n",
       "    </tr>\n",
       "    <tr>\n",
       "      <th>West Bank and Gaza</th>\n",
       "      <td>0.212571</td>\n",
       "      <td>-0.195108</td>\n",
       "      <td>1.580183</td>\n",
       "    </tr>\n",
       "    <tr>\n",
       "      <th>World</th>\n",
       "      <td>2.192010</td>\n",
       "      <td>2.438737</td>\n",
       "      <td>2.206073</td>\n",
       "    </tr>\n",
       "    <tr>\n",
       "      <th>Yemen, Rep.</th>\n",
       "      <td>NaN</td>\n",
       "      <td>NaN</td>\n",
       "      <td>NaN</td>\n",
       "    </tr>\n",
       "    <tr>\n",
       "      <th>Zambia</th>\n",
       "      <td>6.577312</td>\n",
       "      <td>7.494572</td>\n",
       "      <td>9.150316</td>\n",
       "    </tr>\n",
       "    <tr>\n",
       "      <th>Zimbabwe</th>\n",
       "      <td>0.893962</td>\n",
       "      <td>10.618866</td>\n",
       "      <td>255.304991</td>\n",
       "    </tr>\n",
       "  </tbody>\n",
       "</table>\n",
       "<p>266 rows × 3 columns</p>\n",
       "</div>"
      ],
      "text/plain": [
       "                                 2017       2018        2019\n",
       "country                                                     \n",
       "Afghanistan                  4.975952   0.626149    2.302373\n",
       "Africa Eastern and Southern  6.399343   4.720811    4.124351\n",
       "Africa Western and Central   1.764635   1.784050    1.758565\n",
       "Albania                      2.060598   2.028060    1.411091\n",
       "Algeria                      5.591116   4.269990    1.951768\n",
       "...                               ...        ...         ...\n",
       "West Bank and Gaza           0.212571  -0.195108    1.580183\n",
       "World                        2.192010   2.438737    2.206073\n",
       "Yemen, Rep.                       NaN        NaN         NaN\n",
       "Zambia                       6.577312   7.494572    9.150316\n",
       "Zimbabwe                     0.893962  10.618866  255.304991\n",
       "\n",
       "[266 rows x 3 columns]"
      ]
     },
     "execution_count": 103,
     "metadata": {},
     "output_type": "execute_result"
    }
   ],
   "source": [
    "df"
   ]
  },
  {
   "cell_type": "code",
   "execution_count": 104,
   "id": "1ba0f22e",
   "metadata": {},
   "outputs": [],
   "source": [
    "df['inflation'] = df.mean(axis = 1)"
   ]
  },
  {
   "cell_type": "code",
   "execution_count": 105,
   "id": "6fbba608",
   "metadata": {},
   "outputs": [
    {
     "data": {
      "text/html": [
       "<div>\n",
       "<style scoped>\n",
       "    .dataframe tbody tr th:only-of-type {\n",
       "        vertical-align: middle;\n",
       "    }\n",
       "\n",
       "    .dataframe tbody tr th {\n",
       "        vertical-align: top;\n",
       "    }\n",
       "\n",
       "    .dataframe thead th {\n",
       "        text-align: right;\n",
       "    }\n",
       "</style>\n",
       "<table border=\"1\" class=\"dataframe\">\n",
       "  <thead>\n",
       "    <tr style=\"text-align: right;\">\n",
       "      <th></th>\n",
       "      <th>2017</th>\n",
       "      <th>2018</th>\n",
       "      <th>2019</th>\n",
       "      <th>inflation</th>\n",
       "    </tr>\n",
       "    <tr>\n",
       "      <th>country</th>\n",
       "      <th></th>\n",
       "      <th></th>\n",
       "      <th></th>\n",
       "      <th></th>\n",
       "    </tr>\n",
       "  </thead>\n",
       "  <tbody>\n",
       "    <tr>\n",
       "      <th>South Sudan</th>\n",
       "      <td>187.851630</td>\n",
       "      <td>83.501529</td>\n",
       "      <td>87.241364</td>\n",
       "      <td>119.531508</td>\n",
       "    </tr>\n",
       "    <tr>\n",
       "      <th>Zimbabwe</th>\n",
       "      <td>0.893962</td>\n",
       "      <td>10.618866</td>\n",
       "      <td>255.304991</td>\n",
       "      <td>88.939273</td>\n",
       "    </tr>\n",
       "    <tr>\n",
       "      <th>Sudan</th>\n",
       "      <td>32.351626</td>\n",
       "      <td>63.292507</td>\n",
       "      <td>50.994052</td>\n",
       "      <td>48.879395</td>\n",
       "    </tr>\n",
       "    <tr>\n",
       "      <th>Angola</th>\n",
       "      <td>29.843587</td>\n",
       "      <td>19.628608</td>\n",
       "      <td>17.081215</td>\n",
       "      <td>22.184470</td>\n",
       "    </tr>\n",
       "    <tr>\n",
       "      <th>Suriname</th>\n",
       "      <td>21.996943</td>\n",
       "      <td>NaN</td>\n",
       "      <td>NaN</td>\n",
       "      <td>21.996943</td>\n",
       "    </tr>\n",
       "    <tr>\n",
       "      <th>Iran, Islamic Rep.</th>\n",
       "      <td>8.044924</td>\n",
       "      <td>18.014118</td>\n",
       "      <td>39.907346</td>\n",
       "      <td>21.988796</td>\n",
       "    </tr>\n",
       "    <tr>\n",
       "      <th>Liberia</th>\n",
       "      <td>12.419632</td>\n",
       "      <td>23.563515</td>\n",
       "      <td>NaN</td>\n",
       "      <td>17.991574</td>\n",
       "    </tr>\n",
       "    <tr>\n",
       "      <th>Egypt, Arab Rep.</th>\n",
       "      <td>29.506608</td>\n",
       "      <td>14.401466</td>\n",
       "      <td>9.152800</td>\n",
       "      <td>17.686958</td>\n",
       "    </tr>\n",
       "    <tr>\n",
       "      <th>Sierra Leone</th>\n",
       "      <td>18.219809</td>\n",
       "      <td>16.032790</td>\n",
       "      <td>14.803059</td>\n",
       "      <td>16.351886</td>\n",
       "    </tr>\n",
       "    <tr>\n",
       "      <th>Turkey</th>\n",
       "      <td>11.144311</td>\n",
       "      <td>16.332464</td>\n",
       "      <td>15.176822</td>\n",
       "      <td>14.217866</td>\n",
       "    </tr>\n",
       "  </tbody>\n",
       "</table>\n",
       "</div>"
      ],
      "text/plain": [
       "                          2017       2018        2019   inflation\n",
       "country                                                          \n",
       "South Sudan         187.851630  83.501529   87.241364  119.531508\n",
       "Zimbabwe              0.893962  10.618866  255.304991   88.939273\n",
       "Sudan                32.351626  63.292507   50.994052   48.879395\n",
       "Angola               29.843587  19.628608   17.081215   22.184470\n",
       "Suriname             21.996943        NaN         NaN   21.996943\n",
       "Iran, Islamic Rep.    8.044924  18.014118   39.907346   21.988796\n",
       "Liberia              12.419632  23.563515         NaN   17.991574\n",
       "Egypt, Arab Rep.     29.506608  14.401466    9.152800   17.686958\n",
       "Sierra Leone         18.219809  16.032790   14.803059   16.351886\n",
       "Turkey               11.144311  16.332464   15.176822   14.217866"
      ]
     },
     "execution_count": 105,
     "metadata": {},
     "output_type": "execute_result"
    }
   ],
   "source": [
    "sort_df = df.sort_values('inflation', ascending=False)\n",
    "sort_df.head(10)"
   ]
  },
  {
   "cell_type": "code",
   "execution_count": 106,
   "id": "8e56b1f4",
   "metadata": {},
   "outputs": [
    {
     "data": {
      "text/plain": [
       "['South Sudan',\n",
       " 'Zimbabwe',\n",
       " 'Sudan',\n",
       " 'Angola',\n",
       " 'Suriname',\n",
       " 'Iran, Islamic Rep.',\n",
       " 'Liberia',\n",
       " 'Egypt, Arab Rep.',\n",
       " 'Sierra Leone',\n",
       " 'Turkey']"
      ]
     },
     "execution_count": 106,
     "metadata": {},
     "output_type": "execute_result"
    }
   ],
   "source": [
    "max_10 = list(sort_df.iloc[0:10].index)\n",
    "max_10"
   ]
  },
  {
   "cell_type": "code",
   "execution_count": 110,
   "id": "c45da50a",
   "metadata": {},
   "outputs": [
    {
     "data": {
      "text/html": [
       "<div>\n",
       "<style scoped>\n",
       "    .dataframe tbody tr th:only-of-type {\n",
       "        vertical-align: middle;\n",
       "    }\n",
       "\n",
       "    .dataframe tbody tr th {\n",
       "        vertical-align: top;\n",
       "    }\n",
       "\n",
       "    .dataframe thead th {\n",
       "        text-align: right;\n",
       "    }\n",
       "</style>\n",
       "<table border=\"1\" class=\"dataframe\">\n",
       "  <thead>\n",
       "    <tr style=\"text-align: right;\">\n",
       "      <th></th>\n",
       "      <th>2017</th>\n",
       "      <th>2018</th>\n",
       "      <th>2019</th>\n",
       "      <th>inflation</th>\n",
       "    </tr>\n",
       "    <tr>\n",
       "      <th>country</th>\n",
       "      <th></th>\n",
       "      <th></th>\n",
       "      <th></th>\n",
       "      <th></th>\n",
       "    </tr>\n",
       "  </thead>\n",
       "  <tbody>\n",
       "    <tr>\n",
       "      <th>Benin</th>\n",
       "      <td>1.769412</td>\n",
       "      <td>0.644804</td>\n",
       "      <td>-0.705027</td>\n",
       "      <td>0.569730</td>\n",
       "    </tr>\n",
       "    <tr>\n",
       "      <th>West Bank and Gaza</th>\n",
       "      <td>0.212571</td>\n",
       "      <td>-0.195108</td>\n",
       "      <td>1.580183</td>\n",
       "      <td>0.532549</td>\n",
       "    </tr>\n",
       "    <tr>\n",
       "      <th>Singapore</th>\n",
       "      <td>0.576260</td>\n",
       "      <td>0.438620</td>\n",
       "      <td>0.565261</td>\n",
       "      <td>0.526714</td>\n",
       "    </tr>\n",
       "    <tr>\n",
       "      <th>Panama</th>\n",
       "      <td>0.875586</td>\n",
       "      <td>0.761578</td>\n",
       "      <td>-0.355084</td>\n",
       "      <td>0.427360</td>\n",
       "    </tr>\n",
       "    <tr>\n",
       "      <th>Togo</th>\n",
       "      <td>-0.980289</td>\n",
       "      <td>0.928171</td>\n",
       "      <td>0.685898</td>\n",
       "      <td>0.211260</td>\n",
       "    </tr>\n",
       "    <tr>\n",
       "      <th>Ecuador</th>\n",
       "      <td>0.417336</td>\n",
       "      <td>-0.224103</td>\n",
       "      <td>0.266013</td>\n",
       "      <td>0.153082</td>\n",
       "    </tr>\n",
       "    <tr>\n",
       "      <th>Mali</th>\n",
       "      <td>1.759857</td>\n",
       "      <td>0.299547</td>\n",
       "      <td>-1.658267</td>\n",
       "      <td>0.133712</td>\n",
       "    </tr>\n",
       "    <tr>\n",
       "      <th>Iraq</th>\n",
       "      <td>0.184059</td>\n",
       "      <td>0.367441</td>\n",
       "      <td>-0.198965</td>\n",
       "      <td>0.117512</td>\n",
       "    </tr>\n",
       "    <tr>\n",
       "      <th>Burkina Faso</th>\n",
       "      <td>1.482999</td>\n",
       "      <td>1.955943</td>\n",
       "      <td>-3.233389</td>\n",
       "      <td>0.068518</td>\n",
       "    </tr>\n",
       "    <tr>\n",
       "      <th>Qatar</th>\n",
       "      <td>0.394879</td>\n",
       "      <td>0.255815</td>\n",
       "      <td>-0.666641</td>\n",
       "      <td>-0.005316</td>\n",
       "    </tr>\n",
       "    <tr>\n",
       "      <th>Cote d'Ivoire</th>\n",
       "      <td>0.685881</td>\n",
       "      <td>0.359409</td>\n",
       "      <td>-1.106863</td>\n",
       "      <td>-0.020524</td>\n",
       "    </tr>\n",
       "    <tr>\n",
       "      <th>Saudi Arabia</th>\n",
       "      <td>-0.838195</td>\n",
       "      <td>2.458142</td>\n",
       "      <td>-2.093333</td>\n",
       "      <td>-0.157795</td>\n",
       "    </tr>\n",
       "    <tr>\n",
       "      <th>Brunei Darussalam</th>\n",
       "      <td>-1.260506</td>\n",
       "      <td>1.025052</td>\n",
       "      <td>-0.390522</td>\n",
       "      <td>-0.208659</td>\n",
       "    </tr>\n",
       "    <tr>\n",
       "      <th>St. Kitts and Nevis</th>\n",
       "      <td>0.694917</td>\n",
       "      <td>-1.037122</td>\n",
       "      <td>-0.329562</td>\n",
       "      <td>-0.223922</td>\n",
       "    </tr>\n",
       "    <tr>\n",
       "      <th>Kiribati</th>\n",
       "      <td>0.355521</td>\n",
       "      <td>0.564030</td>\n",
       "      <td>-1.813080</td>\n",
       "      <td>-0.297843</td>\n",
       "    </tr>\n",
       "  </tbody>\n",
       "</table>\n",
       "</div>"
      ],
      "text/plain": [
       "                         2017      2018      2019  inflation\n",
       "country                                                     \n",
       "Benin                1.769412  0.644804 -0.705027   0.569730\n",
       "West Bank and Gaza   0.212571 -0.195108  1.580183   0.532549\n",
       "Singapore            0.576260  0.438620  0.565261   0.526714\n",
       "Panama               0.875586  0.761578 -0.355084   0.427360\n",
       "Togo                -0.980289  0.928171  0.685898   0.211260\n",
       "Ecuador              0.417336 -0.224103  0.266013   0.153082\n",
       "Mali                 1.759857  0.299547 -1.658267   0.133712\n",
       "Iraq                 0.184059  0.367441 -0.198965   0.117512\n",
       "Burkina Faso         1.482999  1.955943 -3.233389   0.068518\n",
       "Qatar                0.394879  0.255815 -0.666641  -0.005316\n",
       "Cote d'Ivoire        0.685881  0.359409 -1.106863  -0.020524\n",
       "Saudi Arabia        -0.838195  2.458142 -2.093333  -0.157795\n",
       "Brunei Darussalam   -1.260506  1.025052 -0.390522  -0.208659\n",
       "St. Kitts and Nevis  0.694917 -1.037122 -0.329562  -0.223922\n",
       "Kiribati             0.355521  0.564030 -1.813080  -0.297843"
      ]
     },
     "execution_count": 110,
     "metadata": {},
     "output_type": "execute_result"
    }
   ],
   "source": [
    "sort_df.dropna().iloc[-15:]"
   ]
  },
  {
   "cell_type": "code",
   "execution_count": 109,
   "id": "a921c549",
   "metadata": {},
   "outputs": [
    {
     "data": {
      "text/plain": [
       "['Ecuador',\n",
       " 'Mali',\n",
       " 'Iraq',\n",
       " 'Burkina Faso',\n",
       " 'Qatar',\n",
       " \"Cote d'Ivoire\",\n",
       " 'Saudi Arabia',\n",
       " 'Brunei Darussalam',\n",
       " 'St. Kitts and Nevis',\n",
       " 'Kiribati']"
      ]
     },
     "execution_count": 109,
     "metadata": {},
     "output_type": "execute_result"
    }
   ],
   "source": [
    "min_10 = list(sort_df.dropna().iloc[-10:].index)\n",
    "min_10"
   ]
  },
  {
   "cell_type": "code",
   "execution_count": 354,
   "id": "ca263f0f",
   "metadata": {},
   "outputs": [],
   "source": [
    "df['FP.CPI.TOTL.ZG']['2018'] = np.nan"
   ]
  },
  {
   "cell_type": "code",
   "execution_count": 355,
   "id": "4c0e7d9d",
   "metadata": {},
   "outputs": [
    {
     "data": {
      "text/html": [
       "<div>\n",
       "<style scoped>\n",
       "    .dataframe tbody tr th:only-of-type {\n",
       "        vertical-align: middle;\n",
       "    }\n",
       "\n",
       "    .dataframe tbody tr th {\n",
       "        vertical-align: top;\n",
       "    }\n",
       "\n",
       "    .dataframe thead tr th {\n",
       "        text-align: left;\n",
       "    }\n",
       "\n",
       "    .dataframe thead tr:last-of-type th {\n",
       "        text-align: right;\n",
       "    }\n",
       "</style>\n",
       "<table border=\"1\" class=\"dataframe\">\n",
       "  <thead>\n",
       "    <tr>\n",
       "      <th></th>\n",
       "      <th colspan=\"3\" halign=\"left\">FP.CPI.TOTL.ZG</th>\n",
       "    </tr>\n",
       "    <tr>\n",
       "      <th>year</th>\n",
       "      <th>2017</th>\n",
       "      <th>2018</th>\n",
       "      <th>2019</th>\n",
       "    </tr>\n",
       "    <tr>\n",
       "      <th>country</th>\n",
       "      <th></th>\n",
       "      <th></th>\n",
       "      <th></th>\n",
       "    </tr>\n",
       "  </thead>\n",
       "  <tbody>\n",
       "    <tr>\n",
       "      <th>Iran, Islamic Rep.</th>\n",
       "      <td>8.044924</td>\n",
       "      <td>NaN</td>\n",
       "      <td>39.907346</td>\n",
       "    </tr>\n",
       "  </tbody>\n",
       "</table>\n",
       "</div>"
      ],
      "text/plain": [
       "                   FP.CPI.TOTL.ZG                \n",
       "year                         2017 2018       2019\n",
       "country                                          \n",
       "Iran, Islamic Rep.       8.044924  NaN  39.907346"
      ]
     },
     "execution_count": 355,
     "metadata": {},
     "output_type": "execute_result"
    }
   ],
   "source": [
    "df"
   ]
  },
  {
   "cell_type": "code",
   "execution_count": 365,
   "id": "598f1b43",
   "metadata": {},
   "outputs": [
    {
     "name": "stdout",
     "output_type": "stream",
     "text": [
      "False\n",
      "True\n"
     ]
    }
   ],
   "source": [
    "for i in df.isna()['FP.CPI.TOTL.ZG']:\n",
    "    print(df.isna()['FP.CPI.TOTL.ZG'][i][0])\n",
    "    if df.isna()['FP.CPI.TOTL.ZG'][i][0] == True:\n",
    "        break"
   ]
  },
  {
   "cell_type": "code",
   "execution_count": 281,
   "id": "ae0cf079",
   "metadata": {},
   "outputs": [],
   "source": [
    "df = df.unstack()"
   ]
  },
  {
   "cell_type": "code",
   "execution_count": 283,
   "id": "e8fa7703",
   "metadata": {},
   "outputs": [],
   "source": [
    "df.columns = [2017,2018,2019]"
   ]
  },
  {
   "cell_type": "code",
   "execution_count": 284,
   "id": "605595be",
   "metadata": {},
   "outputs": [
    {
     "data": {
      "text/html": [
       "<div>\n",
       "<style scoped>\n",
       "    .dataframe tbody tr th:only-of-type {\n",
       "        vertical-align: middle;\n",
       "    }\n",
       "\n",
       "    .dataframe tbody tr th {\n",
       "        vertical-align: top;\n",
       "    }\n",
       "\n",
       "    .dataframe thead th {\n",
       "        text-align: right;\n",
       "    }\n",
       "</style>\n",
       "<table border=\"1\" class=\"dataframe\">\n",
       "  <thead>\n",
       "    <tr style=\"text-align: right;\">\n",
       "      <th></th>\n",
       "      <th>2017</th>\n",
       "      <th>2018</th>\n",
       "      <th>2019</th>\n",
       "    </tr>\n",
       "    <tr>\n",
       "      <th>country</th>\n",
       "      <th></th>\n",
       "      <th></th>\n",
       "      <th></th>\n",
       "    </tr>\n",
       "  </thead>\n",
       "  <tbody>\n",
       "    <tr>\n",
       "      <th>Iran, Islamic Rep.</th>\n",
       "      <td>8.044924</td>\n",
       "      <td>18.014118</td>\n",
       "      <td>39.907346</td>\n",
       "    </tr>\n",
       "  </tbody>\n",
       "</table>\n",
       "</div>"
      ],
      "text/plain": [
       "                        2017       2018       2019\n",
       "country                                           \n",
       "Iran, Islamic Rep.  8.044924  18.014118  39.907346"
      ]
     },
     "execution_count": 284,
     "metadata": {},
     "output_type": "execute_result"
    }
   ],
   "source": [
    "df"
   ]
  },
  {
   "cell_type": "code",
   "execution_count": 286,
   "id": "adeb3697",
   "metadata": {},
   "outputs": [],
   "source": [
    "import math"
   ]
  },
  {
   "cell_type": "code",
   "execution_count": 287,
   "id": "65f1c145",
   "metadata": {},
   "outputs": [],
   "source": [
    "def variance(data, ddof=0):\n",
    "    n = len(data)\n",
    "    mean = sum(data) / n\n",
    "    return sum((x - mean) ** 2 for x in data) / (n - ddof)"
   ]
  },
  {
   "cell_type": "code",
   "execution_count": 288,
   "id": "dc8e4ef8",
   "metadata": {},
   "outputs": [],
   "source": [
    "def stdev(data):\n",
    "    var = variance(data)\n",
    "    std_dev = math.sqrt(var)\n",
    "    return std_dev"
   ]
  },
  {
   "cell_type": "code",
   "execution_count": 294,
   "id": "f755a0a1",
   "metadata": {},
   "outputs": [
    {
     "data": {
      "text/plain": [
       "[8.04492437660281, 18.0141183371874, 39.9073455697783]"
      ]
     },
     "execution_count": 294,
     "metadata": {},
     "output_type": "execute_result"
    }
   ],
   "source": [
    "inflation_list = [df[2017][0],df[2018][0],df[2019][0]]\n",
    "inflation_list"
   ]
  },
  {
   "cell_type": "code",
   "execution_count": 296,
   "id": "80dac8b8",
   "metadata": {},
   "outputs": [
    {
     "data": {
      "text/plain": [
       "[8.04492437660281, 18.0141183371874, 39.9073455697783]"
      ]
     },
     "execution_count": 296,
     "metadata": {},
     "output_type": "execute_result"
    }
   ],
   "source": [
    "inflation_list2 = [df[i][0] for i in df.columns]\n",
    "inflation_list2"
   ]
  },
  {
   "cell_type": "code",
   "execution_count": 300,
   "id": "299fe642",
   "metadata": {},
   "outputs": [],
   "source": [
    "#country_name"
   ]
  },
  {
   "cell_type": "code",
   "execution_count": 309,
   "id": "b9d68627",
   "metadata": {},
   "outputs": [
    {
     "data": {
      "text/html": [
       "<div>\n",
       "<style scoped>\n",
       "    .dataframe tbody tr th:only-of-type {\n",
       "        vertical-align: middle;\n",
       "    }\n",
       "\n",
       "    .dataframe tbody tr th {\n",
       "        vertical-align: top;\n",
       "    }\n",
       "\n",
       "    .dataframe thead th {\n",
       "        text-align: right;\n",
       "    }\n",
       "</style>\n",
       "<table border=\"1\" class=\"dataframe\">\n",
       "  <thead>\n",
       "    <tr style=\"text-align: right;\">\n",
       "      <th></th>\n",
       "      <th>stand</th>\n",
       "    </tr>\n",
       "    <tr>\n",
       "      <th>iso3c</th>\n",
       "      <th></th>\n",
       "    </tr>\n",
       "  </thead>\n",
       "  <tbody>\n",
       "    <tr>\n",
       "      <th>ABW</th>\n",
       "      <td>NaN</td>\n",
       "    </tr>\n",
       "    <tr>\n",
       "      <th>AFG</th>\n",
       "      <td>NaN</td>\n",
       "    </tr>\n",
       "    <tr>\n",
       "      <th>AGO</th>\n",
       "      <td>NaN</td>\n",
       "    </tr>\n",
       "    <tr>\n",
       "      <th>ALB</th>\n",
       "      <td>NaN</td>\n",
       "    </tr>\n",
       "    <tr>\n",
       "      <th>AND</th>\n",
       "      <td>NaN</td>\n",
       "    </tr>\n",
       "  </tbody>\n",
       "</table>\n",
       "</div>"
      ],
      "text/plain": [
       "       stand\n",
       "iso3c       \n",
       "ABW      NaN\n",
       "AFG      NaN\n",
       "AGO      NaN\n",
       "ALB      NaN\n",
       "AND      NaN"
      ]
     },
     "execution_count": 309,
     "metadata": {},
     "output_type": "execute_result"
    }
   ],
   "source": [
    "dfnew = pd.DataFrame(index=country_name.iso3c)\n",
    "dfnew['stand'] = np.nan\n",
    "dfnew.head()"
   ]
  },
  {
   "cell_type": "code",
   "execution_count": 389,
   "id": "4aeaadba",
   "metadata": {},
   "outputs": [],
   "source": [
    "nn = country_name.reset_index()"
   ]
  },
  {
   "cell_type": "code",
   "execution_count": 391,
   "id": "615a3b3d",
   "metadata": {},
   "outputs": [
    {
     "data": {
      "text/html": [
       "<div>\n",
       "<style scoped>\n",
       "    .dataframe tbody tr th:only-of-type {\n",
       "        vertical-align: middle;\n",
       "    }\n",
       "\n",
       "    .dataframe tbody tr th {\n",
       "        vertical-align: top;\n",
       "    }\n",
       "\n",
       "    .dataframe thead th {\n",
       "        text-align: right;\n",
       "    }\n",
       "</style>\n",
       "<table border=\"1\" class=\"dataframe\">\n",
       "  <thead>\n",
       "    <tr style=\"text-align: right;\">\n",
       "      <th></th>\n",
       "      <th>name</th>\n",
       "      <th>iso3c</th>\n",
       "      <th>iso2c</th>\n",
       "      <th>region</th>\n",
       "      <th>adminregion</th>\n",
       "      <th>incomeLevel</th>\n",
       "      <th>lendingType</th>\n",
       "      <th>capitalCity</th>\n",
       "      <th>longitude</th>\n",
       "      <th>latitude</th>\n",
       "      <th>name2</th>\n",
       "    </tr>\n",
       "  </thead>\n",
       "  <tbody>\n",
       "    <tr>\n",
       "      <th>198</th>\n",
       "      <td>Tuvalu</td>\n",
       "      <td>TUV</td>\n",
       "      <td>TV</td>\n",
       "      <td>East Asia &amp; Pacific</td>\n",
       "      <td>East Asia &amp; Pacific (excluding high income)</td>\n",
       "      <td>Upper middle income</td>\n",
       "      <td>IDA</td>\n",
       "      <td>Funafuti</td>\n",
       "      <td>179.089567</td>\n",
       "      <td>-8.631488</td>\n",
       "      <td>Tuvalu</td>\n",
       "    </tr>\n",
       "  </tbody>\n",
       "</table>\n",
       "</div>"
      ],
      "text/plain": [
       "       name iso3c iso2c               region  \\\n",
       "198  Tuvalu   TUV    TV  East Asia & Pacific   \n",
       "\n",
       "                                     adminregion          incomeLevel  \\\n",
       "198  East Asia & Pacific (excluding high income)  Upper middle income   \n",
       "\n",
       "    lendingType capitalCity   longitude  latitude   name2  \n",
       "198         IDA    Funafuti  179.089567 -8.631488  Tuvalu  "
      ]
     },
     "execution_count": 391,
     "metadata": {},
     "output_type": "execute_result"
    }
   ],
   "source": [
    "nn[nn.iso3c == 'TUV']"
   ]
  },
  {
   "cell_type": "code",
   "execution_count": 399,
   "id": "9f173346",
   "metadata": {},
   "outputs": [
    {
     "data": {
      "text/plain": [
       "name                 Taiwan, China\n",
       "iso3c                          TWN\n",
       "iso2c                           TW\n",
       "region         East Asia & Pacific\n",
       "adminregion                       \n",
       "incomeLevel            High income\n",
       "lendingType         Not classified\n",
       "capitalCity                       \n",
       "longitude                      NaN\n",
       "latitude                       NaN\n",
       "name2                Taiwan, China\n",
       "Name: 199, dtype: object"
      ]
     },
     "execution_count": 399,
     "metadata": {},
     "output_type": "execute_result"
    }
   ],
   "source": [
    "nn.iloc[199]"
   ]
  },
  {
   "cell_type": "code",
   "execution_count": 403,
   "id": "3d89d82a",
   "metadata": {},
   "outputs": [
    {
     "data": {
      "text/plain": [
       "name\n",
       "Zimbabwe        ZWE\n",
       "Zambia          ZMB\n",
       "South Africa    ZAF\n",
       "Yemen, Rep.     YEM\n",
       "Kosovo          XKX\n",
       "               ... \n",
       "Andorra         AND\n",
       "Albania         ALB\n",
       "Angola          AGO\n",
       "Afghanistan     AFG\n",
       "Aruba           ABW\n",
       "Name: iso3c, Length: 218, dtype: object"
      ]
     },
     "execution_count": 403,
     "metadata": {},
     "output_type": "execute_result"
    }
   ],
   "source": [
    "country_name.iso3c[::-1]"
   ]
  },
  {
   "cell_type": "code",
   "execution_count": 1,
   "id": "f9d7a180",
   "metadata": {},
   "outputs": [],
   "source": [
    "# #num = 1\n",
    "# for i in country_name.iso3c[::-1]:\n",
    "#     print(i)\n",
    "#     if i == 'CHI':\n",
    "#         continue\n",
    "#     if i == 'TWN':\n",
    "#         continue   \n",
    "#     df = wb.download(country=i,indicator= \"FP.CPI.TOTL.ZG\", start=2017 ,end = 2019).unstack()\n",
    "    \n",
    "#     #for b in df.isna()['FP.CPI.TOTL.ZG']:\n",
    "#         #print(df.isna()['FP.CPI.TOTL.ZG'][b][0])\n",
    "#     #    if df.isna()['FP.CPI.TOTL.ZG'][b][0] == True:\n",
    "#     #        break\n",
    "\n",
    "#     inflation_list2 = [df[j][0] for j in df.columns]\n",
    "#     stdd = stdev(inflation_list)\n",
    "#     dfnew.loc[i,'stand'] = stdd\n",
    "#     #print(i)"
   ]
  },
  {
   "cell_type": "code",
   "execution_count": 411,
   "id": "8a0f973f",
   "metadata": {},
   "outputs": [
    {
     "data": {
      "text/html": [
       "<div>\n",
       "<style scoped>\n",
       "    .dataframe tbody tr th:only-of-type {\n",
       "        vertical-align: middle;\n",
       "    }\n",
       "\n",
       "    .dataframe tbody tr th {\n",
       "        vertical-align: top;\n",
       "    }\n",
       "\n",
       "    .dataframe thead th {\n",
       "        text-align: right;\n",
       "    }\n",
       "</style>\n",
       "<table border=\"1\" class=\"dataframe\">\n",
       "  <thead>\n",
       "    <tr style=\"text-align: right;\">\n",
       "      <th></th>\n",
       "      <th>stand</th>\n",
       "    </tr>\n",
       "    <tr>\n",
       "      <th>iso3c</th>\n",
       "      <th></th>\n",
       "    </tr>\n",
       "  </thead>\n",
       "  <tbody>\n",
       "    <tr>\n",
       "      <th>ABW</th>\n",
       "      <td>NaN</td>\n",
       "    </tr>\n",
       "    <tr>\n",
       "      <th>AFG</th>\n",
       "      <td>NaN</td>\n",
       "    </tr>\n",
       "    <tr>\n",
       "      <th>AGO</th>\n",
       "      <td>NaN</td>\n",
       "    </tr>\n",
       "    <tr>\n",
       "      <th>ALB</th>\n",
       "      <td>NaN</td>\n",
       "    </tr>\n",
       "    <tr>\n",
       "      <th>AND</th>\n",
       "      <td>NaN</td>\n",
       "    </tr>\n",
       "    <tr>\n",
       "      <th>...</th>\n",
       "      <td>...</td>\n",
       "    </tr>\n",
       "    <tr>\n",
       "      <th>XKX</th>\n",
       "      <td>NaN</td>\n",
       "    </tr>\n",
       "    <tr>\n",
       "      <th>YEM</th>\n",
       "      <td>NaN</td>\n",
       "    </tr>\n",
       "    <tr>\n",
       "      <th>ZAF</th>\n",
       "      <td>NaN</td>\n",
       "    </tr>\n",
       "    <tr>\n",
       "      <th>ZMB</th>\n",
       "      <td>NaN</td>\n",
       "    </tr>\n",
       "    <tr>\n",
       "      <th>ZWE</th>\n",
       "      <td>NaN</td>\n",
       "    </tr>\n",
       "  </tbody>\n",
       "</table>\n",
       "<p>218 rows × 1 columns</p>\n",
       "</div>"
      ],
      "text/plain": [
       "       stand\n",
       "iso3c       \n",
       "ABW      NaN\n",
       "AFG      NaN\n",
       "AGO      NaN\n",
       "ALB      NaN\n",
       "AND      NaN\n",
       "...      ...\n",
       "XKX      NaN\n",
       "YEM      NaN\n",
       "ZAF      NaN\n",
       "ZMB      NaN\n",
       "ZWE      NaN\n",
       "\n",
       "[218 rows x 1 columns]"
      ]
     },
     "execution_count": 411,
     "metadata": {},
     "output_type": "execute_result"
    }
   ],
   "source": [
    "dfnew"
   ]
  },
  {
   "cell_type": "code",
   "execution_count": 295,
   "id": "a2de3440",
   "metadata": {},
   "outputs": [
    {
     "data": {
      "text/plain": [
       "13.307942954712484"
      ]
     },
     "execution_count": 295,
     "metadata": {},
     "output_type": "execute_result"
    }
   ],
   "source": [
    "stdev(inflation_list)"
   ]
  },
  {
   "cell_type": "code",
   "execution_count": null,
   "id": "177afee2",
   "metadata": {},
   "outputs": [],
   "source": []
  },
  {
   "cell_type": "markdown",
   "id": "62ad647a",
   "metadata": {},
   "source": [
    "### 2.2. نوسانات تورم ماهانه"
   ]
  },
  {
   "cell_type": "code",
   "execution_count": null,
   "id": "66644b90",
   "metadata": {},
   "outputs": [],
   "source": []
  },
  {
   "cell_type": "code",
   "execution_count": null,
   "id": "17cd408d",
   "metadata": {},
   "outputs": [],
   "source": []
  },
  {
   "cell_type": "code",
   "execution_count": null,
   "id": "9481e8f0",
   "metadata": {},
   "outputs": [],
   "source": []
  },
  {
   "cell_type": "code",
   "execution_count": null,
   "id": "7971fc07",
   "metadata": {},
   "outputs": [],
   "source": []
  },
  {
   "cell_type": "code",
   "execution_count": null,
   "id": "a78b5c57",
   "metadata": {},
   "outputs": [],
   "source": []
  },
  {
   "cell_type": "markdown",
   "id": "c66b1ac6",
   "metadata": {},
   "source": [
    "### 3. نرخ بهره واقعی"
   ]
  },
  {
   "cell_type": "code",
   "execution_count": null,
   "id": "831b4c6a",
   "metadata": {},
   "outputs": [],
   "source": []
  },
  {
   "cell_type": "code",
   "execution_count": null,
   "id": "707b13a8",
   "metadata": {},
   "outputs": [],
   "source": []
  },
  {
   "cell_type": "markdown",
   "id": "b24eaff6",
   "metadata": {},
   "source": [
    "### 4. نوسانات نرخ ارز\n"
   ]
  },
  {
   "cell_type": "code",
   "execution_count": null,
   "id": "284247e7",
   "metadata": {},
   "outputs": [],
   "source": []
  },
  {
   "cell_type": "code",
   "execution_count": null,
   "id": "9fe3e1ea",
   "metadata": {},
   "outputs": [],
   "source": []
  },
  {
   "cell_type": "markdown",
   "id": "c3b00fdc",
   "metadata": {},
   "source": [
    "### 5. رشد اقتصاد"
   ]
  },
  {
   "cell_type": "code",
   "execution_count": 2,
   "id": "91dae034",
   "metadata": {},
   "outputs": [],
   "source": [
    "def cleaning_cal(df):\n",
    "    df = df.unstack().reset_index()\n",
    "    df.columns = ['name', 'inflation']\n",
    "    df.set_index('name', inplace=True)\n",
    "    \n",
    "    country_name = wb.get_countries()\n",
    "    country_name['name2'] = country_name.name\n",
    "    country_name = country_name.set_index('name')\n",
    "    country_name = country_name[country_name.incomeLevel != \"Aggregates\"]\n",
    "    \n",
    "    \n",
    "    df = df.join(country_name, how='inner').drop(list(df.join(country_name, how='inner').columns[1:]), axis = 1).dropna()\n",
    "    sort_df = df.sort_values('inflation', ascending=False)\n",
    "    \n",
    "    max_10 = sort_df.iloc[0:10]\n",
    "    min_10 = sort_df.iloc[-10:]\n",
    "    \n",
    "    mean_max = max_10.mean()\n",
    "    mean_min = min_10.mean()\n",
    "    \n",
    "    iran_df=df[df.index == 'Iran, Islamic Rep.']\n",
    "    output =  abs(((mean_min - iran_df)) / (mean_max - mean_min) * 100).iloc[0][0]\n",
    "    return output"
   ]
  },
  {
   "cell_type": "code",
   "execution_count": 76,
   "id": "3f41548d",
   "metadata": {},
   "outputs": [],
   "source": [
    "df = wb.download(country='all',indicator= \"NY.GDP.MKTP.KD.ZG\", start=2016 ,end = 2020)"
   ]
  },
  {
   "cell_type": "code",
   "execution_count": 77,
   "id": "5ab8f53b",
   "metadata": {},
   "outputs": [],
   "source": [
    "df = df.unstack().reset_index()"
   ]
  },
  {
   "cell_type": "code",
   "execution_count": 11,
   "id": "17aff043",
   "metadata": {},
   "outputs": [],
   "source": [
    "df.columns = ['country', 2016, 2017, 2018, 2019 , 2020]"
   ]
  },
  {
   "cell_type": "code",
   "execution_count": 16,
   "id": "79b888ca",
   "metadata": {},
   "outputs": [],
   "source": [
    "df['ave'] = df.mean(axis = 1)"
   ]
  },
  {
   "cell_type": "code",
   "execution_count": null,
   "id": "32da582a",
   "metadata": {},
   "outputs": [],
   "source": [
    "df = df[['country','ave']]"
   ]
  },
  {
   "cell_type": "code",
   "execution_count": null,
   "id": "2700a73d",
   "metadata": {},
   "outputs": [],
   "source": [
    "df.set_index('country', inplace=True)"
   ]
  },
  {
   "cell_type": "code",
   "execution_count": 55,
   "id": "48965216",
   "metadata": {},
   "outputs": [
    {
     "data": {
      "text/html": [
       "<div>\n",
       "<style scoped>\n",
       "    .dataframe tbody tr th:only-of-type {\n",
       "        vertical-align: middle;\n",
       "    }\n",
       "\n",
       "    .dataframe tbody tr th {\n",
       "        vertical-align: top;\n",
       "    }\n",
       "\n",
       "    .dataframe thead th {\n",
       "        text-align: right;\n",
       "    }\n",
       "</style>\n",
       "<table border=\"1\" class=\"dataframe\">\n",
       "  <thead>\n",
       "    <tr style=\"text-align: right;\">\n",
       "      <th></th>\n",
       "      <th>ave</th>\n",
       "    </tr>\n",
       "    <tr>\n",
       "      <th>country</th>\n",
       "      <th></th>\n",
       "    </tr>\n",
       "  </thead>\n",
       "  <tbody>\n",
       "    <tr>\n",
       "      <th>Guyana</th>\n",
       "      <td>12.163098</td>\n",
       "    </tr>\n",
       "    <tr>\n",
       "      <th>Ethiopia</th>\n",
       "      <td>8.046905</td>\n",
       "    </tr>\n",
       "    <tr>\n",
       "      <th>Guinea</th>\n",
       "      <td>8.022770</td>\n",
       "    </tr>\n",
       "    <tr>\n",
       "      <th>Bangladesh</th>\n",
       "      <td>6.784645</td>\n",
       "    </tr>\n",
       "    <tr>\n",
       "      <th>Tajikistan</th>\n",
       "      <td>6.700000</td>\n",
       "    </tr>\n",
       "  </tbody>\n",
       "</table>\n",
       "</div>"
      ],
      "text/plain": [
       "                  ave\n",
       "country              \n",
       "Guyana      12.163098\n",
       "Ethiopia     8.046905\n",
       "Guinea       8.022770\n",
       "Bangladesh   6.784645\n",
       "Tajikistan   6.700000"
      ]
     },
     "execution_count": 55,
     "metadata": {},
     "output_type": "execute_result"
    }
   ],
   "source": [
    "df.head()"
   ]
  },
  {
   "cell_type": "code",
   "execution_count": 49,
   "id": "ee67f068",
   "metadata": {},
   "outputs": [],
   "source": [
    "country_name = wb.get_countries()\n",
    "country_name['name2'] = country_name.name\n",
    "country_name = country_name.set_index('name')\n",
    "country_name = country_name[country_name.incomeLevel != \"Aggregates\"]"
   ]
  },
  {
   "cell_type": "code",
   "execution_count": 69,
   "id": "8d04d685",
   "metadata": {},
   "outputs": [],
   "source": [
    "df = df.join(country_name, how='inner').drop(list(df.join(country_name, how='inner').columns[1:]), axis = 1).dropna().sort_values('ave', ascending=False)"
   ]
  },
  {
   "cell_type": "code",
   "execution_count": 70,
   "id": "064677a9",
   "metadata": {},
   "outputs": [
    {
     "data": {
      "text/html": [
       "<div>\n",
       "<style scoped>\n",
       "    .dataframe tbody tr th:only-of-type {\n",
       "        vertical-align: middle;\n",
       "    }\n",
       "\n",
       "    .dataframe tbody tr th {\n",
       "        vertical-align: top;\n",
       "    }\n",
       "\n",
       "    .dataframe thead th {\n",
       "        text-align: right;\n",
       "    }\n",
       "</style>\n",
       "<table border=\"1\" class=\"dataframe\">\n",
       "  <thead>\n",
       "    <tr style=\"text-align: right;\">\n",
       "      <th></th>\n",
       "      <th>ave</th>\n",
       "    </tr>\n",
       "  </thead>\n",
       "  <tbody>\n",
       "    <tr>\n",
       "      <th>Guyana</th>\n",
       "      <td>12.163098</td>\n",
       "    </tr>\n",
       "    <tr>\n",
       "      <th>Ethiopia</th>\n",
       "      <td>8.046905</td>\n",
       "    </tr>\n",
       "    <tr>\n",
       "      <th>Guinea</th>\n",
       "      <td>8.022770</td>\n",
       "    </tr>\n",
       "    <tr>\n",
       "      <th>Bangladesh</th>\n",
       "      <td>6.784645</td>\n",
       "    </tr>\n",
       "    <tr>\n",
       "      <th>Tajikistan</th>\n",
       "      <td>6.700000</td>\n",
       "    </tr>\n",
       "    <tr>\n",
       "      <th>...</th>\n",
       "      <td>...</td>\n",
       "    </tr>\n",
       "    <tr>\n",
       "      <th>Curacao</th>\n",
       "      <td>-5.338493</td>\n",
       "    </tr>\n",
       "    <tr>\n",
       "      <th>Lebanon</th>\n",
       "      <td>-5.591924</td>\n",
       "    </tr>\n",
       "    <tr>\n",
       "      <th>Congo, Rep.</th>\n",
       "      <td>-5.600490</td>\n",
       "    </tr>\n",
       "    <tr>\n",
       "      <th>Equatorial Guinea</th>\n",
       "      <td>-6.318553</td>\n",
       "    </tr>\n",
       "    <tr>\n",
       "      <th>Macao SAR, China</th>\n",
       "      <td>-8.150904</td>\n",
       "    </tr>\n",
       "  </tbody>\n",
       "</table>\n",
       "<p>206 rows × 1 columns</p>\n",
       "</div>"
      ],
      "text/plain": [
       "                         ave\n",
       "Guyana             12.163098\n",
       "Ethiopia            8.046905\n",
       "Guinea              8.022770\n",
       "Bangladesh          6.784645\n",
       "Tajikistan          6.700000\n",
       "...                      ...\n",
       "Curacao            -5.338493\n",
       "Lebanon            -5.591924\n",
       "Congo, Rep.        -5.600490\n",
       "Equatorial Guinea  -6.318553\n",
       "Macao SAR, China   -8.150904\n",
       "\n",
       "[206 rows x 1 columns]"
      ]
     },
     "execution_count": 70,
     "metadata": {},
     "output_type": "execute_result"
    }
   ],
   "source": [
    "df"
   ]
  },
  {
   "cell_type": "code",
   "execution_count": 73,
   "id": "4748b87e",
   "metadata": {},
   "outputs": [
    {
     "name": "stdout",
     "output_type": "stream",
     "text": [
      "53.160515642277225\n"
     ]
    }
   ],
   "source": [
    "max_10 = df.iloc[0:10]\n",
    "min_10 = df.iloc[-10:]\n",
    "\n",
    "mean_max = max_10.mean()\n",
    "mean_min = min_10.mean()\n",
    "\n",
    "iran_df=df[df.index == 'Iran, Islamic Rep.']\n",
    "output =  abs(((mean_min - iran_df)) / (mean_max - mean_min) * 100).iloc[0][0]\n",
    "print(output)"
   ]
  },
  {
   "cell_type": "code",
   "execution_count": 75,
   "id": "316ed685",
   "metadata": {},
   "outputs": [
    {
     "name": "stdout",
     "output_type": "stream",
     "text": [
      "                     ave\n",
      "Guyana         12.163098\n",
      "Ethiopia        8.046905\n",
      "Guinea          8.022770\n",
      "Bangladesh      6.784645\n",
      "Tajikistan      6.700000\n",
      "Myanmar         6.517411\n",
      "Turkmenistan    6.300000\n",
      "Ireland         6.159278\n",
      "Vietnam         6.004423\n",
      "Cote d'Ivoire   5.923834\n",
      "\n",
      "                                ave\n",
      "Palau                     -3.021607\n",
      "Barbados                  -3.340434\n",
      "Trinidad and Tobago       -3.524695\n",
      "Sint Maarten (Dutch part) -3.966667\n",
      "Yemen, Rep.               -4.564824\n",
      "Curacao                   -5.338493\n",
      "Lebanon                   -5.591924\n",
      "Congo, Rep.               -5.600490\n",
      "Equatorial Guinea         -6.318553\n",
      "Macao SAR, China          -8.150904\n",
      "\n",
      "ave    7.262236\n",
      "dtype: float64\n",
      "\n",
      "ave   -4.941859\n",
      "dtype: float64\n",
      "\n",
      "                         ave\n",
      "Iran, Islamic Rep.  1.545901\n",
      "\n",
      "53.160515642277225\n"
     ]
    }
   ],
   "source": [
    "print(max_10)\n",
    "print(\"\")\n",
    "print(min_10)\n",
    "print(\"\")\n",
    "print(mean_max)\n",
    "print(\"\")\n",
    "print(mean_min)\n",
    "print(\"\")\n",
    "print(iran_df)\n",
    "print(\"\")\n",
    "print(output)"
   ]
  },
  {
   "cell_type": "markdown",
   "id": "4ff052ee",
   "metadata": {},
   "source": [
    "### 5. میزان سرمایه‌گذاری خارجی"
   ]
  },
  {
   "cell_type": "code",
   "execution_count": 41,
   "id": "74ee97e0",
   "metadata": {},
   "outputs": [],
   "source": [
    "def cleaning_cal(df):\n",
    "    global sort_df,max_10,min_10,mean_max,mean_min,iran_df,output\n",
    "    df = df.unstack().reset_index()\n",
    "    df.columns = ['name', 'fore_invest']\n",
    "    df.set_index('name', inplace=True)\n",
    "    \n",
    "    country_name = wb.get_countries()\n",
    "    country_name['name2'] = country_name.name\n",
    "    country_name = country_name.set_index('name')\n",
    "    country_name = country_name[country_name.incomeLevel != \"Aggregates\"]\n",
    "    \n",
    "    \n",
    "    df = df.join(country_name, how='inner').drop(list(df.join(country_name, how='inner').columns[1:]), axis = 1).dropna()\n",
    "    sort_df = df.sort_values('fore_invest', ascending=False)\n",
    "    \n",
    "    max_10 = sort_df.iloc[0:10]\n",
    "    min_10 = sort_df.iloc[-10:]\n",
    "    \n",
    "    mean_max = max_10.mean()\n",
    "    mean_min = min_10.mean()\n",
    "    \n",
    "    iran_df=df[df.index == 'Iran, Islamic Rep.']\n",
    "    output =  abs(((mean_min - iran_df)) / (mean_max - mean_min) * 100).iloc[0][0]\n",
    "    return output"
   ]
  },
  {
   "cell_type": "code",
   "execution_count": 40,
   "id": "9264c138",
   "metadata": {},
   "outputs": [],
   "source": [
    "df = wb.download(country='all',indicator= \"BX.KLT.DINV.WD.GD.ZS\", start=2020 ,end = 2020)"
   ]
  },
  {
   "cell_type": "code",
   "execution_count": 42,
   "id": "c11bb11a",
   "metadata": {},
   "outputs": [
    {
     "data": {
      "text/plain": [
       "12.425884772496989"
      ]
     },
     "execution_count": 42,
     "metadata": {},
     "output_type": "execute_result"
    }
   ],
   "source": [
    "cleaning_cal(df)"
   ]
  },
  {
   "cell_type": "code",
   "execution_count": 44,
   "id": "cae87b58",
   "metadata": {},
   "outputs": [
    {
     "data": {
      "text/plain": [
       "186"
      ]
     },
     "execution_count": 44,
     "metadata": {},
     "output_type": "execute_result"
    }
   ],
   "source": [
    "len(sort_df)"
   ]
  },
  {
   "cell_type": "code",
   "execution_count": 45,
   "id": "54983c10",
   "metadata": {},
   "outputs": [
    {
     "name": "stdout",
     "output_type": "stream",
     "text": [
      "                      fore_invest\n",
      "name                             \n",
      "Cayman Islands         422.436323\n",
      "Hungary                108.420498\n",
      "Luxembourg              84.719809\n",
      "Congo, Rep.             39.417721\n",
      "Hong Kong SAR, China    33.888364\n",
      "Malta                   29.951356\n",
      "Singapore               25.719273\n",
      "Mozambique              22.739430\n",
      "Guyana                  21.831959\n",
      "Seychelles              16.521594\n",
      "\n",
      "                  fore_invest\n",
      "name                         \n",
      "Angola              -3.197322\n",
      "Belgium             -3.366918\n",
      "Papua New Guinea    -3.792198\n",
      "Panama              -3.991946\n",
      "Austria             -4.204125\n",
      "Iceland             -4.725472\n",
      "Kyrgyz Republic     -5.190277\n",
      "Netherlands        -16.339568\n",
      "Macao SAR, China   -27.764945\n",
      "Switzerland        -34.208963\n",
      "\n",
      "fore_invest    80.564633\n",
      "dtype: float64\n",
      "\n",
      "fore_invest   -10.678174\n",
      "dtype: float64\n",
      "\n",
      "                    fore_invest\n",
      "name                           \n",
      "Iran, Islamic Rep.     0.659552\n",
      "\n",
      "12.425884772496989\n"
     ]
    }
   ],
   "source": [
    "print(max_10)\n",
    "print(\"\")\n",
    "print(min_10)\n",
    "print(\"\")\n",
    "print(mean_max)\n",
    "print(\"\")\n",
    "print(mean_min)\n",
    "print(\"\")\n",
    "print(iran_df)\n",
    "print(\"\")\n",
    "print(output)"
   ]
  },
  {
   "cell_type": "code",
   "execution_count": null,
   "id": "c74c1e5c",
   "metadata": {},
   "outputs": [],
   "source": []
  },
  {
   "cell_type": "markdown",
   "id": "d83680d3",
   "metadata": {},
   "source": [
    "### 6. عمق بازار سرمایه"
   ]
  },
  {
   "cell_type": "code",
   "execution_count": 49,
   "id": "4cd64880",
   "metadata": {},
   "outputs": [],
   "source": [
    "def cleaning_cal(df):\n",
    "    global sort_df,max_10,min_10,mean_max,mean_min,iran_df,output\n",
    "    df = df.unstack().reset_index()\n",
    "    df.columns = ['name', 'market_depth']\n",
    "    df.set_index('name', inplace=True)\n",
    "    \n",
    "    country_name = wb.get_countries()\n",
    "    country_name['name2'] = country_name.name\n",
    "    country_name = country_name.set_index('name')\n",
    "    country_name = country_name[country_name.incomeLevel != \"Aggregates\"]\n",
    "    \n",
    "    \n",
    "    df = df.join(country_name, how='inner').drop(list(df.join(country_name, how='inner').columns[1:]), axis = 1).dropna()\n",
    "    sort_df = df.sort_values('market_depth', ascending=False)\n",
    "    \n",
    "    max_10 = sort_df.iloc[0:4]\n",
    "    min_10 = sort_df.iloc[-4:]\n",
    "    \n",
    "    mean_max = max_10.mean()\n",
    "    mean_min = min_10.mean()\n",
    "    \n",
    "    iran_df=df[df.index == 'Iran, Islamic Rep.']\n",
    "    output =  abs(((mean_min - iran_df)) / (mean_max - mean_min) * 100).iloc[0][0]\n",
    "    return output"
   ]
  },
  {
   "cell_type": "code",
   "execution_count": 47,
   "id": "d38f785f",
   "metadata": {},
   "outputs": [],
   "source": [
    "df = wb.download(country='all',indicator= \"CM.MKT.TRAD.GD.ZS\", start=2020 ,end = 2020)"
   ]
  },
  {
   "cell_type": "code",
   "execution_count": 50,
   "id": "b14b50ac",
   "metadata": {},
   "outputs": [
    {
     "data": {
      "text/plain": [
       "55.287504847470395"
      ]
     },
     "execution_count": 50,
     "metadata": {},
     "output_type": "execute_result"
    }
   ],
   "source": [
    "cleaning_cal(df)"
   ]
  },
  {
   "cell_type": "code",
   "execution_count": 39,
   "id": "5318bdee",
   "metadata": {},
   "outputs": [
    {
     "data": {
      "text/plain": [
       "65"
      ]
     },
     "execution_count": 39,
     "metadata": {},
     "output_type": "execute_result"
    }
   ],
   "source": [
    "len(sort_df)"
   ]
  },
  {
   "cell_type": "code",
   "execution_count": 51,
   "id": "189815e5",
   "metadata": {},
   "outputs": [
    {
     "name": "stdout",
     "output_type": "stream",
     "text": [
      "                      market_depth\n",
      "name                              \n",
      "Hong Kong SAR, China    885.598296\n",
      "Korea, Rep.             316.912291\n",
      "Iran, Islamic Rep.      227.285279\n",
      "China                   214.502708\n",
      "\n",
      "                market_depth\n",
      "name                        \n",
      "Ghana               0.047656\n",
      "Tanzania            0.029675\n",
      "Cayman Islands      0.023249\n",
      "Belarus             0.010040\n",
      "\n",
      "market_depth    411.074643\n",
      "dtype: float64\n",
      "\n",
      "market_depth    0.027655\n",
      "dtype: float64\n",
      "\n",
      "                    market_depth\n",
      "name                            \n",
      "Iran, Islamic Rep.    227.285279\n",
      "\n",
      "55.287504847470395\n"
     ]
    }
   ],
   "source": [
    "print(max_10)\n",
    "print(\"\")\n",
    "print(min_10)\n",
    "print(\"\")\n",
    "print(mean_max)\n",
    "print(\"\")\n",
    "print(mean_min)\n",
    "print(\"\")\n",
    "print(iran_df)\n",
    "print(\"\")\n",
    "print(output)"
   ]
  },
  {
   "cell_type": "code",
   "execution_count": null,
   "id": "e6dbb13b",
   "metadata": {},
   "outputs": [],
   "source": []
  },
  {
   "cell_type": "code",
   "execution_count": null,
   "id": "d0f15960",
   "metadata": {},
   "outputs": [],
   "source": []
  },
  {
   "cell_type": "code",
   "execution_count": null,
   "id": "edb769fb",
   "metadata": {},
   "outputs": [],
   "source": []
  },
  {
   "cell_type": "code",
   "execution_count": null,
   "id": "7ed14758",
   "metadata": {},
   "outputs": [],
   "source": []
  },
  {
   "cell_type": "code",
   "execution_count": null,
   "id": "7fd8ff84",
   "metadata": {},
   "outputs": [],
   "source": []
  },
  {
   "cell_type": "code",
   "execution_count": null,
   "id": "073dc937",
   "metadata": {},
   "outputs": [],
   "source": []
  },
  {
   "cell_type": "code",
   "execution_count": null,
   "id": "99de1204",
   "metadata": {},
   "outputs": [],
   "source": []
  }
 ],
 "metadata": {
  "kernelspec": {
   "display_name": "Python 3",
   "language": "python",
   "name": "python3"
  },
  "language_info": {
   "codemirror_mode": {
    "name": "ipython",
    "version": 3
   },
   "file_extension": ".py",
   "mimetype": "text/x-python",
   "name": "python",
   "nbconvert_exporter": "python",
   "pygments_lexer": "ipython3",
   "version": "3.8.8"
  }
 },
 "nbformat": 4,
 "nbformat_minor": 5
}
